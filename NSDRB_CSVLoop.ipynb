{
 "cells": [
  {
   "cell_type": "code",
   "execution_count": 1,
   "metadata": {
    "scrolled": true
   },
   "outputs": [],
   "source": [
    "import pandas as pd\n",
    "import numpy as np\n",
    "import sys, os\n",
    "import requests\n",
    "from IPython.display import display\n",
    "import csv\n",
    "from urllib import request\n",
    "import uuid\n",
    "\n",
    "#import API key\n",
    "from api_keys import api_key"
   ]
  },
  {
   "cell_type": "code",
   "execution_count": 2,
   "metadata": {},
   "outputs": [],
   "source": [
    "attributes = 'ghi,dhi,dni,wind_speed,air_temperature,solar_zenith_angle'"
   ]
  },
  {
   "cell_type": "code",
   "execution_count": 3,
   "metadata": {},
   "outputs": [],
   "source": [
    "year = '2019'"
   ]
  },
  {
   "cell_type": "code",
   "execution_count": 4,
   "metadata": {},
   "outputs": [],
   "source": [
    "leap_year = 'false'"
   ]
  },
  {
   "cell_type": "code",
   "execution_count": 5,
   "metadata": {},
   "outputs": [],
   "source": [
    "interval = '60'"
   ]
  },
  {
   "cell_type": "code",
   "execution_count": 6,
   "metadata": {},
   "outputs": [],
   "source": [
    "utc = 'false'"
   ]
  },
  {
   "cell_type": "code",
   "execution_count": 7,
   "metadata": {},
   "outputs": [],
   "source": [
    "your_name = 'Diamond+Williams'"
   ]
  },
  {
   "cell_type": "code",
   "execution_count": 8,
   "metadata": {},
   "outputs": [],
   "source": [
    "reason_for_use = 'research'"
   ]
  },
  {
   "cell_type": "code",
   "execution_count": 9,
   "metadata": {},
   "outputs": [],
   "source": [
    "your_affiliation = 'ENGIE'"
   ]
  },
  {
   "cell_type": "code",
   "execution_count": 10,
   "metadata": {},
   "outputs": [],
   "source": [
    "your_email = 'diamond.williams@engie.com'"
   ]
  },
  {
   "cell_type": "code",
   "execution_count": 11,
   "metadata": {},
   "outputs": [],
   "source": [
    "mailing_list = 'true'"
   ]
  },
  {
   "cell_type": "code",
   "execution_count": 12,
   "metadata": {},
   "outputs": [
    {
     "data": {
      "text/html": [
       "<div>\n",
       "<style scoped>\n",
       "    .dataframe tbody tr th:only-of-type {\n",
       "        vertical-align: middle;\n",
       "    }\n",
       "\n",
       "    .dataframe tbody tr th {\n",
       "        vertical-align: top;\n",
       "    }\n",
       "\n",
       "    .dataframe thead th {\n",
       "        text-align: right;\n",
       "    }\n",
       "</style>\n",
       "<table border=\"1\" class=\"dataframe\">\n",
       "  <thead>\n",
       "    <tr style=\"text-align: right;\">\n",
       "      <th></th>\n",
       "      <th>Project: Project Name</th>\n",
       "      <th>Latitude</th>\n",
       "      <th>Longitude</th>\n",
       "      <th>Site ID</th>\n",
       "      <th>Coor</th>\n",
       "      <th>UID</th>\n",
       "    </tr>\n",
       "  </thead>\n",
       "  <tbody>\n",
       "    <tr>\n",
       "      <th>0</th>\n",
       "      <td>Alburgh_VT_VEC-GM</td>\n",
       "      <td>44.98</td>\n",
       "      <td>-73.30</td>\n",
       "      <td>565.0</td>\n",
       "      <td>-73.3%2044.98</td>\n",
       "      <td>a4d1eb92-7fff-47ab-8dc4-76e2068b56be</td>\n",
       "    </tr>\n",
       "    <tr>\n",
       "      <th>1</th>\n",
       "      <td>American Canyon 11365S_CA_WAG-RT</td>\n",
       "      <td>38.17</td>\n",
       "      <td>-122.26</td>\n",
       "      <td>448.0</td>\n",
       "      <td>-122.26%2038.17</td>\n",
       "      <td>aa49f449-8dcb-4ef4-93c5-87a25c16efeb</td>\n",
       "    </tr>\n",
       "    <tr>\n",
       "      <th>2</th>\n",
       "      <td>American Fork 343_UT_CNMK-RT</td>\n",
       "      <td>40.38</td>\n",
       "      <td>-111.80</td>\n",
       "      <td>312.0</td>\n",
       "      <td>-111.8%2040.38</td>\n",
       "      <td>aa49f449-8dcb-4ef4-93c5-87a25c16efeb</td>\n",
       "    </tr>\n",
       "    <tr>\n",
       "      <th>3</th>\n",
       "      <td>Anaheim_CA_MRT-RT</td>\n",
       "      <td>33.84</td>\n",
       "      <td>-117.91</td>\n",
       "      <td>570.0</td>\n",
       "      <td>-117.91%2033.84</td>\n",
       "      <td>a30ee413-f5a3-4c78-a79e-c3fe32d75e78</td>\n",
       "    </tr>\n",
       "    <tr>\n",
       "      <th>4</th>\n",
       "      <td>Anoka_MN_CONX-GM</td>\n",
       "      <td>45.20</td>\n",
       "      <td>-93.39</td>\n",
       "      <td>760.0</td>\n",
       "      <td>-93.39%2045.2</td>\n",
       "      <td>c53235d4-b5de-4587-a6a4-5656999ebc3a</td>\n",
       "    </tr>\n",
       "  </tbody>\n",
       "</table>\n",
       "</div>"
      ],
      "text/plain": [
       "              Project: Project Name  Latitude  Longitude  Site ID  \\\n",
       "0                 Alburgh_VT_VEC-GM     44.98     -73.30    565.0   \n",
       "1  American Canyon 11365S_CA_WAG-RT     38.17    -122.26    448.0   \n",
       "2      American Fork 343_UT_CNMK-RT     40.38    -111.80    312.0   \n",
       "3                 Anaheim_CA_MRT-RT     33.84    -117.91    570.0   \n",
       "4                  Anoka_MN_CONX-GM     45.20     -93.39    760.0   \n",
       "\n",
       "              Coor                                   UID  \n",
       "0    -73.3%2044.98  a4d1eb92-7fff-47ab-8dc4-76e2068b56be  \n",
       "1  -122.26%2038.17  aa49f449-8dcb-4ef4-93c5-87a25c16efeb  \n",
       "2   -111.8%2040.38  aa49f449-8dcb-4ef4-93c5-87a25c16efeb  \n",
       "3  -117.91%2033.84  a30ee413-f5a3-4c78-a79e-c3fe32d75e78  \n",
       "4    -93.39%2045.2  c53235d4-b5de-4587-a6a4-5656999ebc3a  "
      ]
     },
     "execution_count": 12,
     "metadata": {},
     "output_type": "execute_result"
    }
   ],
   "source": [
    "file =pd.read_csv('Solar_Sites.csv')\n",
    "file.head()"
   ]
  },
  {
   "cell_type": "code",
   "execution_count": 13,
   "metadata": {},
   "outputs": [
    {
     "data": {
      "text/html": [
       "<div>\n",
       "<style scoped>\n",
       "    .dataframe tbody tr th:only-of-type {\n",
       "        vertical-align: middle;\n",
       "    }\n",
       "\n",
       "    .dataframe tbody tr th {\n",
       "        vertical-align: top;\n",
       "    }\n",
       "\n",
       "    .dataframe thead th {\n",
       "        text-align: right;\n",
       "    }\n",
       "</style>\n",
       "<table border=\"1\" class=\"dataframe\">\n",
       "  <thead>\n",
       "    <tr style=\"text-align: right;\">\n",
       "      <th></th>\n",
       "      <th>Latitude</th>\n",
       "      <th>Longitude</th>\n",
       "      <th>Coor</th>\n",
       "      <th>Site ID</th>\n",
       "      <th>Project: Project Name</th>\n",
       "    </tr>\n",
       "  </thead>\n",
       "  <tbody>\n",
       "    <tr>\n",
       "      <th>0</th>\n",
       "      <td>44.98</td>\n",
       "      <td>-73.30</td>\n",
       "      <td>-73.3%2044.98</td>\n",
       "      <td>565.0</td>\n",
       "      <td>Alburgh_VT_VEC-GM</td>\n",
       "    </tr>\n",
       "    <tr>\n",
       "      <th>1</th>\n",
       "      <td>38.17</td>\n",
       "      <td>-122.26</td>\n",
       "      <td>-122.26%2038.17</td>\n",
       "      <td>448.0</td>\n",
       "      <td>American Canyon 11365S_CA_WAG-RT</td>\n",
       "    </tr>\n",
       "    <tr>\n",
       "      <th>2</th>\n",
       "      <td>40.38</td>\n",
       "      <td>-111.80</td>\n",
       "      <td>-111.8%2040.38</td>\n",
       "      <td>312.0</td>\n",
       "      <td>American Fork 343_UT_CNMK-RT</td>\n",
       "    </tr>\n",
       "    <tr>\n",
       "      <th>3</th>\n",
       "      <td>33.84</td>\n",
       "      <td>-117.91</td>\n",
       "      <td>-117.91%2033.84</td>\n",
       "      <td>570.0</td>\n",
       "      <td>Anaheim_CA_MRT-RT</td>\n",
       "    </tr>\n",
       "    <tr>\n",
       "      <th>4</th>\n",
       "      <td>45.20</td>\n",
       "      <td>-93.39</td>\n",
       "      <td>-93.39%2045.2</td>\n",
       "      <td>760.0</td>\n",
       "      <td>Anoka_MN_CONX-GM</td>\n",
       "    </tr>\n",
       "  </tbody>\n",
       "</table>\n",
       "</div>"
      ],
      "text/plain": [
       "   Latitude  Longitude             Coor  Site ID  \\\n",
       "0     44.98     -73.30    -73.3%2044.98    565.0   \n",
       "1     38.17    -122.26  -122.26%2038.17    448.0   \n",
       "2     40.38    -111.80   -111.8%2040.38    312.0   \n",
       "3     33.84    -117.91  -117.91%2033.84    570.0   \n",
       "4     45.20     -93.39    -93.39%2045.2    760.0   \n",
       "\n",
       "              Project: Project Name  \n",
       "0                 Alburgh_VT_VEC-GM  \n",
       "1  American Canyon 11365S_CA_WAG-RT  \n",
       "2      American Fork 343_UT_CNMK-RT  \n",
       "3                 Anaheim_CA_MRT-RT  \n",
       "4                  Anoka_MN_CONX-GM  "
      ]
     },
     "execution_count": 13,
     "metadata": {},
     "output_type": "execute_result"
    }
   ],
   "source": [
    "new = file[['Latitude', \"Longitude\", \"Coor\", \"Site ID\", \"Project: Project Name\"]]\n",
    "new.head()"
   ]
  },
  {
   "cell_type": "markdown",
   "metadata": {},
   "source": [
    "url = 'http://developer.nrel.gov/api/solar/nsrdb_psm3_download.csv?wkt=POINT({long})&names={year}&leap_day={leap}&interval={interval}&utc={utc}&full_name={name}&email={email}&affiliation={affiliation}&mailing_list={mailing_list}&reason={reason}&api_key={api}&attributes={attr}'.format(year=year, lat=lat, lon=lon, leap=leap_year, interval=interval, utc=utc, name=your_name, email=your_email, mailing_list=mailing_list, affiliation=your_affiliation, reason=reason_for_use, api=api_key, attr=attributes)"
   ]
  },
  {
   "cell_type": "markdown",
   "metadata": {},
   "source": [
    "for index, row in new.iterrows():\n",
    "    lat = row['Latitude']\n",
    "    lon = row['Longitude']\n",
    "    mark = row[['Coor']]\n",
    "    newmrk = mark[0]\n",
    "    \n",
    "    \n",
    "    url = 'http://developer.nrel.gov/api/solar/nsrdb_psm3_download.csv?wkt=POINT({newmrk})&names={year}&leap_day={leap}&interval={interval}&utc={utc}&full_name={name}&email={email}&affiliation={affiliation}&mailing_list={mailing_list}&reason={reason}&api_key={api}&attributes={attr}'.format(year=year, lat=lat, lon=lon, newmrk=newmrk, leap=leap_year, interval=interval, utc=utc, name=your_name, email=your_email, mailing_list=mailing_list, affiliation=your_affiliation, reason=reason_for_use, api=api_key, attr=attributes)\n",
    "    \n",
    "    print(url)"
   ]
  },
  {
   "cell_type": "markdown",
   "metadata": {},
   "source": [
    "Headless Downloads"
   ]
  },
  {
   "cell_type": "code",
   "execution_count": 14,
   "metadata": {
    "scrolled": true
   },
   "outputs": [
    {
     "name": "stdout",
     "output_type": "stream",
     "text": [
      "http://developer.nrel.gov/api/solar/nsrdb_psm3_download.csv?wkt=POINT(-73.3%2044.98)&names=2019&leap_day=false&interval=60&utc=false&full_name=Diamond+Williams&email=diamond.williams@engie.com&affiliation=ENGIE&mailing_list=true&reason=research&api_key=mtlpqLlBesMh2I0vsRvVfHAxRXhJcYihT8X7gVrL&attributes=ghi,dhi,dni,wind_speed,air_temperature,solar_zenith_angle\n",
      "http://developer.nrel.gov/api/solar/nsrdb_psm3_download.csv?wkt=POINT(-122.26%2038.17)&names=2019&leap_day=false&interval=60&utc=false&full_name=Diamond+Williams&email=diamond.williams@engie.com&affiliation=ENGIE&mailing_list=true&reason=research&api_key=mtlpqLlBesMh2I0vsRvVfHAxRXhJcYihT8X7gVrL&attributes=ghi,dhi,dni,wind_speed,air_temperature,solar_zenith_angle\n",
      "http://developer.nrel.gov/api/solar/nsrdb_psm3_download.csv?wkt=POINT(-111.8%2040.38)&names=2019&leap_day=false&interval=60&utc=false&full_name=Diamond+Williams&email=diamond.williams@engie.com&affiliation=ENGIE&mailing_list=true&reason=research&api_key=mtlpqLlBesMh2I0vsRvVfHAxRXhJcYihT8X7gVrL&attributes=ghi,dhi,dni,wind_speed,air_temperature,solar_zenith_angle\n",
      "http://developer.nrel.gov/api/solar/nsrdb_psm3_download.csv?wkt=POINT(-117.91%2033.84)&names=2019&leap_day=false&interval=60&utc=false&full_name=Diamond+Williams&email=diamond.williams@engie.com&affiliation=ENGIE&mailing_list=true&reason=research&api_key=mtlpqLlBesMh2I0vsRvVfHAxRXhJcYihT8X7gVrL&attributes=ghi,dhi,dni,wind_speed,air_temperature,solar_zenith_angle\n",
      "http://developer.nrel.gov/api/solar/nsrdb_psm3_download.csv?wkt=POINT(-93.39%2045.2)&names=2019&leap_day=false&interval=60&utc=false&full_name=Diamond+Williams&email=diamond.williams@engie.com&affiliation=ENGIE&mailing_list=true&reason=research&api_key=mtlpqLlBesMh2I0vsRvVfHAxRXhJcYihT8X7gVrL&attributes=ghi,dhi,dni,wind_speed,air_temperature,solar_zenith_angle\n",
      "http://developer.nrel.gov/api/solar/nsrdb_psm3_download.csv?wkt=POINT(-117.19%2034.5)&names=2019&leap_day=false&interval=60&utc=false&full_name=Diamond+Williams&email=diamond.williams@engie.com&affiliation=ENGIE&mailing_list=true&reason=research&api_key=mtlpqLlBesMh2I0vsRvVfHAxRXhJcYihT8X7gVrL&attributes=ghi,dhi,dni,wind_speed,air_temperature,solar_zenith_angle\n",
      "http://developer.nrel.gov/api/solar/nsrdb_psm3_download.csv?wkt=POINT(-91.5%2044.25)&names=2019&leap_day=false&interval=60&utc=false&full_name=Diamond+Williams&email=diamond.williams@engie.com&affiliation=ENGIE&mailing_list=true&reason=research&api_key=mtlpqLlBesMh2I0vsRvVfHAxRXhJcYihT8X7gVrL&attributes=ghi,dhi,dni,wind_speed,air_temperature,solar_zenith_angle\n",
      "http://developer.nrel.gov/api/solar/nsrdb_psm3_download.csv?wkt=POINT(-91.5%2044.25)&names=2019&leap_day=false&interval=60&utc=false&full_name=Diamond+Williams&email=diamond.williams@engie.com&affiliation=ENGIE&mailing_list=true&reason=research&api_key=mtlpqLlBesMh2I0vsRvVfHAxRXhJcYihT8X7gVrL&attributes=ghi,dhi,dni,wind_speed,air_temperature,solar_zenith_angle\n",
      "http://developer.nrel.gov/api/solar/nsrdb_psm3_download.csv?wkt=POINT(-90.55%2043.47)&names=2019&leap_day=false&interval=60&utc=false&full_name=Diamond+Williams&email=diamond.williams@engie.com&affiliation=ENGIE&mailing_list=true&reason=research&api_key=mtlpqLlBesMh2I0vsRvVfHAxRXhJcYihT8X7gVrL&attributes=ghi,dhi,dni,wind_speed,air_temperature,solar_zenith_angle\n",
      "http://developer.nrel.gov/api/solar/nsrdb_psm3_download.csv?wkt=POINT(-90.55%2043.47)&names=2019&leap_day=false&interval=60&utc=false&full_name=Diamond+Williams&email=diamond.williams@engie.com&affiliation=ENGIE&mailing_list=true&reason=research&api_key=mtlpqLlBesMh2I0vsRvVfHAxRXhJcYihT8X7gVrL&attributes=ghi,dhi,dni,wind_speed,air_temperature,solar_zenith_angle\n",
      "http://developer.nrel.gov/api/solar/nsrdb_psm3_download.csv?wkt=POINT(-93.22%2045.43)&names=2019&leap_day=false&interval=60&utc=false&full_name=Diamond+Williams&email=diamond.williams@engie.com&affiliation=ENGIE&mailing_list=true&reason=research&api_key=mtlpqLlBesMh2I0vsRvVfHAxRXhJcYihT8X7gVrL&attributes=ghi,dhi,dni,wind_speed,air_temperature,solar_zenith_angle\n",
      "http://developer.nrel.gov/api/solar/nsrdb_psm3_download.csv?wkt=POINT(-71.29%2041.94)&names=2019&leap_day=false&interval=60&utc=false&full_name=Diamond+Williams&email=diamond.williams@engie.com&affiliation=ENGIE&mailing_list=true&reason=research&api_key=mtlpqLlBesMh2I0vsRvVfHAxRXhJcYihT8X7gVrL&attributes=ghi,dhi,dni,wind_speed,air_temperature,solar_zenith_angle\n",
      "http://developer.nrel.gov/api/solar/nsrdb_psm3_download.csv?wkt=POINT(-97.74%2030.27)&names=2019&leap_day=false&interval=60&utc=false&full_name=Diamond+Williams&email=diamond.williams@engie.com&affiliation=ENGIE&mailing_list=true&reason=research&api_key=mtlpqLlBesMh2I0vsRvVfHAxRXhJcYihT8X7gVrL&attributes=ghi,dhi,dni,wind_speed,air_temperature,solar_zenith_angle\n",
      "http://developer.nrel.gov/api/solar/nsrdb_psm3_download.csv?wkt=POINT(-97.74%2030.27)&names=2019&leap_day=false&interval=60&utc=false&full_name=Diamond+Williams&email=diamond.williams@engie.com&affiliation=ENGIE&mailing_list=true&reason=research&api_key=mtlpqLlBesMh2I0vsRvVfHAxRXhJcYihT8X7gVrL&attributes=ghi,dhi,dni,wind_speed,air_temperature,solar_zenith_angle\n",
      "http://developer.nrel.gov/api/solar/nsrdb_psm3_download.csv?wkt=POINT(-116.98%2033.93)&names=2019&leap_day=false&interval=60&utc=false&full_name=Diamond+Williams&email=diamond.williams@engie.com&affiliation=ENGIE&mailing_list=true&reason=research&api_key=mtlpqLlBesMh2I0vsRvVfHAxRXhJcYihT8X7gVrL&attributes=ghi,dhi,dni,wind_speed,air_temperature,solar_zenith_angle\n",
      "http://developer.nrel.gov/api/solar/nsrdb_psm3_download.csv?wkt=POINT(-84.06%2039.71)&names=2019&leap_day=false&interval=60&utc=false&full_name=Diamond+Williams&email=diamond.williams@engie.com&affiliation=ENGIE&mailing_list=true&reason=research&api_key=mtlpqLlBesMh2I0vsRvVfHAxRXhJcYihT8X7gVrL&attributes=ghi,dhi,dni,wind_speed,air_temperature,solar_zenith_angle\n",
      "http://developer.nrel.gov/api/solar/nsrdb_psm3_download.csv?wkt=POINT(-83.76%2040.36)&names=2019&leap_day=false&interval=60&utc=false&full_name=Diamond+Williams&email=diamond.williams@engie.com&affiliation=ENGIE&mailing_list=true&reason=research&api_key=mtlpqLlBesMh2I0vsRvVfHAxRXhJcYihT8X7gVrL&attributes=ghi,dhi,dni,wind_speed,air_temperature,solar_zenith_angle\n",
      "http://developer.nrel.gov/api/solar/nsrdb_psm3_download.csv?wkt=POINT(-118.12%2033.88)&names=2019&leap_day=false&interval=60&utc=false&full_name=Diamond+Williams&email=diamond.williams@engie.com&affiliation=ENGIE&mailing_list=true&reason=research&api_key=mtlpqLlBesMh2I0vsRvVfHAxRXhJcYihT8X7gVrL&attributes=ghi,dhi,dni,wind_speed,air_temperature,solar_zenith_angle\n",
      "http://developer.nrel.gov/api/solar/nsrdb_psm3_download.csv?wkt=POINT(-93.3%2044.84)&names=2019&leap_day=false&interval=60&utc=false&full_name=Diamond+Williams&email=diamond.williams@engie.com&affiliation=ENGIE&mailing_list=true&reason=research&api_key=mtlpqLlBesMh2I0vsRvVfHAxRXhJcYihT8X7gVrL&attributes=ghi,dhi,dni,wind_speed,air_temperature,solar_zenith_angle\n",
      "http://developer.nrel.gov/api/solar/nsrdb_psm3_download.csv?wkt=POINT(-88.07%2041.7)&names=2019&leap_day=false&interval=60&utc=false&full_name=Diamond+Williams&email=diamond.williams@engie.com&affiliation=ENGIE&mailing_list=true&reason=research&api_key=mtlpqLlBesMh2I0vsRvVfHAxRXhJcYihT8X7gVrL&attributes=ghi,dhi,dni,wind_speed,air_temperature,solar_zenith_angle\n",
      "http://developer.nrel.gov/api/solar/nsrdb_psm3_download.csv?wkt=POINT(-88.07%2041.7)&names=2019&leap_day=false&interval=60&utc=false&full_name=Diamond+Williams&email=diamond.williams@engie.com&affiliation=ENGIE&mailing_list=true&reason=research&api_key=mtlpqLlBesMh2I0vsRvVfHAxRXhJcYihT8X7gVrL&attributes=ghi,dhi,dni,wind_speed,air_temperature,solar_zenith_angle\n",
      "http://developer.nrel.gov/api/solar/nsrdb_psm3_download.csv?wkt=POINT(-73.19%2041.18)&names=2019&leap_day=false&interval=60&utc=false&full_name=Diamond+Williams&email=diamond.williams@engie.com&affiliation=ENGIE&mailing_list=true&reason=research&api_key=mtlpqLlBesMh2I0vsRvVfHAxRXhJcYihT8X7gVrL&attributes=ghi,dhi,dni,wind_speed,air_temperature,solar_zenith_angle\n",
      "http://developer.nrel.gov/api/solar/nsrdb_psm3_download.csv?wkt=POINT(-74.6%2040.59)&names=2019&leap_day=false&interval=60&utc=false&full_name=Diamond+Williams&email=diamond.williams@engie.com&affiliation=ENGIE&mailing_list=true&reason=research&api_key=mtlpqLlBesMh2I0vsRvVfHAxRXhJcYihT8X7gVrL&attributes=ghi,dhi,dni,wind_speed,air_temperature,solar_zenith_angle\n"
     ]
    },
    {
     "name": "stdout",
     "output_type": "stream",
     "text": [
      "http://developer.nrel.gov/api/solar/nsrdb_psm3_download.csv?wkt=POINT(-74.6%2040.59)&names=2019&leap_day=false&interval=60&utc=false&full_name=Diamond+Williams&email=diamond.williams@engie.com&affiliation=ENGIE&mailing_list=true&reason=research&api_key=mtlpqLlBesMh2I0vsRvVfHAxRXhJcYihT8X7gVrL&attributes=ghi,dhi,dni,wind_speed,air_temperature,solar_zenith_angle\n",
      "http://developer.nrel.gov/api/solar/nsrdb_psm3_download.csv?wkt=POINT(-104.82%2039.99)&names=2019&leap_day=false&interval=60&utc=false&full_name=Diamond+Williams&email=diamond.williams@engie.com&affiliation=ENGIE&mailing_list=true&reason=research&api_key=mtlpqLlBesMh2I0vsRvVfHAxRXhJcYihT8X7gVrL&attributes=ghi,dhi,dni,wind_speed,air_temperature,solar_zenith_angle\n",
      "http://developer.nrel.gov/api/solar/nsrdb_psm3_download.csv?wkt=POINT(-71.02%2042.08)&names=2019&leap_day=false&interval=60&utc=false&full_name=Diamond+Williams&email=diamond.williams@engie.com&affiliation=ENGIE&mailing_list=true&reason=research&api_key=mtlpqLlBesMh2I0vsRvVfHAxRXhJcYihT8X7gVrL&attributes=ghi,dhi,dni,wind_speed,air_temperature,solar_zenith_angle\n",
      "http://developer.nrel.gov/api/solar/nsrdb_psm3_download.csv?wkt=POINT(-73.94%2040.68)&names=2019&leap_day=false&interval=60&utc=false&full_name=Diamond+Williams&email=diamond.williams@engie.com&affiliation=ENGIE&mailing_list=true&reason=research&api_key=mtlpqLlBesMh2I0vsRvVfHAxRXhJcYihT8X7gVrL&attributes=ghi,dhi,dni,wind_speed,air_temperature,solar_zenith_angle\n",
      "http://developer.nrel.gov/api/solar/nsrdb_psm3_download.csv?wkt=POINT(-73.94%2040.68)&names=2019&leap_day=false&interval=60&utc=false&full_name=Diamond+Williams&email=diamond.williams@engie.com&affiliation=ENGIE&mailing_list=true&reason=research&api_key=mtlpqLlBesMh2I0vsRvVfHAxRXhJcYihT8X7gVrL&attributes=ghi,dhi,dni,wind_speed,air_temperature,solar_zenith_angle\n",
      "http://developer.nrel.gov/api/solar/nsrdb_psm3_download.csv?wkt=POINT(-79.44%2036.1)&names=2019&leap_day=false&interval=60&utc=false&full_name=Diamond+Williams&email=diamond.williams@engie.com&affiliation=ENGIE&mailing_list=true&reason=research&api_key=mtlpqLlBesMh2I0vsRvVfHAxRXhJcYihT8X7gVrL&attributes=ghi,dhi,dni,wind_speed,air_temperature,solar_zenith_angle\n",
      "http://developer.nrel.gov/api/solar/nsrdb_psm3_download.csv?wkt=POINT(-121.53%2038.42)&names=2019&leap_day=false&interval=60&utc=false&full_name=Diamond+Williams&email=diamond.williams@engie.com&affiliation=ENGIE&mailing_list=true&reason=research&api_key=mtlpqLlBesMh2I0vsRvVfHAxRXhJcYihT8X7gVrL&attributes=ghi,dhi,dni,wind_speed,air_temperature,solar_zenith_angle\n",
      "http://developer.nrel.gov/api/solar/nsrdb_psm3_download.csv?wkt=POINT(-120.45%2034.91)&names=2019&leap_day=false&interval=60&utc=false&full_name=Diamond+Williams&email=diamond.williams@engie.com&affiliation=ENGIE&mailing_list=true&reason=research&api_key=mtlpqLlBesMh2I0vsRvVfHAxRXhJcYihT8X7gVrL&attributes=ghi,dhi,dni,wind_speed,air_temperature,solar_zenith_angle\n",
      "http://developer.nrel.gov/api/solar/nsrdb_psm3_download.csv?wkt=POINT(-120.42%2034.88)&names=2019&leap_day=false&interval=60&utc=false&full_name=Diamond+Williams&email=diamond.williams@engie.com&affiliation=ENGIE&mailing_list=true&reason=research&api_key=mtlpqLlBesMh2I0vsRvVfHAxRXhJcYihT8X7gVrL&attributes=ghi,dhi,dni,wind_speed,air_temperature,solar_zenith_angle\n",
      "http://developer.nrel.gov/api/solar/nsrdb_psm3_download.csv?wkt=POINT(-120.4%2034.96)&names=2019&leap_day=false&interval=60&utc=false&full_name=Diamond+Williams&email=diamond.williams@engie.com&affiliation=ENGIE&mailing_list=true&reason=research&api_key=mtlpqLlBesMh2I0vsRvVfHAxRXhJcYihT8X7gVrL&attributes=ghi,dhi,dni,wind_speed,air_temperature,solar_zenith_angle\n",
      "http://developer.nrel.gov/api/solar/nsrdb_psm3_download.csv?wkt=POINT(-117.06%2034)&names=2019&leap_day=false&interval=60&utc=false&full_name=Diamond+Williams&email=diamond.williams@engie.com&affiliation=ENGIE&mailing_list=true&reason=research&api_key=mtlpqLlBesMh2I0vsRvVfHAxRXhJcYihT8X7gVrL&attributes=ghi,dhi,dni,wind_speed,air_temperature,solar_zenith_angle\n",
      "http://developer.nrel.gov/api/solar/nsrdb_psm3_download.csv?wkt=POINT(-83.48%2042.31)&names=2019&leap_day=false&interval=60&utc=false&full_name=Diamond+Williams&email=diamond.williams@engie.com&affiliation=ENGIE&mailing_list=true&reason=research&api_key=mtlpqLlBesMh2I0vsRvVfHAxRXhJcYihT8X7gVrL&attributes=ghi,dhi,dni,wind_speed,air_temperature,solar_zenith_angle\n",
      "http://developer.nrel.gov/api/solar/nsrdb_psm3_download.csv?wkt=POINT(-117.35%2031.16)&names=2019&leap_day=false&interval=60&utc=false&full_name=Diamond+Williams&email=diamond.williams@engie.com&affiliation=ENGIE&mailing_list=true&reason=research&api_key=mtlpqLlBesMh2I0vsRvVfHAxRXhJcYihT8X7gVrL&attributes=ghi,dhi,dni,wind_speed,air_temperature,solar_zenith_angle\n",
      "http://developer.nrel.gov/api/solar/nsrdb_psm3_download.csv?wkt=POINT(-105.88%2033.64)&names=2019&leap_day=false&interval=60&utc=false&full_name=Diamond+Williams&email=diamond.williams@engie.com&affiliation=ENGIE&mailing_list=true&reason=research&api_key=mtlpqLlBesMh2I0vsRvVfHAxRXhJcYihT8X7gVrL&attributes=ghi,dhi,dni,wind_speed,air_temperature,solar_zenith_angle\n",
      "http://developer.nrel.gov/api/solar/nsrdb_psm3_download.csv?wkt=POINT(-118.28%2033.83)&names=2019&leap_day=false&interval=60&utc=false&full_name=Diamond+Williams&email=diamond.williams@engie.com&affiliation=ENGIE&mailing_list=true&reason=research&api_key=mtlpqLlBesMh2I0vsRvVfHAxRXhJcYihT8X7gVrL&attributes=ghi,dhi,dni,wind_speed,air_temperature,solar_zenith_angle\n",
      "http://developer.nrel.gov/api/solar/nsrdb_psm3_download.csv?wkt=POINT(-116.47%2033.78)&names=2019&leap_day=false&interval=60&utc=false&full_name=Diamond+Williams&email=diamond.williams@engie.com&affiliation=ENGIE&mailing_list=true&reason=research&api_key=mtlpqLlBesMh2I0vsRvVfHAxRXhJcYihT8X7gVrL&attributes=ghi,dhi,dni,wind_speed,air_temperature,solar_zenith_angle\n",
      "http://developer.nrel.gov/api/solar/nsrdb_psm3_download.csv?wkt=POINT(-84.16%2039.63)&names=2019&leap_day=false&interval=60&utc=false&full_name=Diamond+Williams&email=diamond.williams@engie.com&affiliation=ENGIE&mailing_list=true&reason=research&api_key=mtlpqLlBesMh2I0vsRvVfHAxRXhJcYihT8X7gVrL&attributes=ghi,dhi,dni,wind_speed,air_temperature,solar_zenith_angle\n",
      "http://developer.nrel.gov/api/solar/nsrdb_psm3_download.csv?wkt=POINT(-118.06%2033.86)&names=2019&leap_day=false&interval=60&utc=false&full_name=Diamond+Williams&email=diamond.williams@engie.com&affiliation=ENGIE&mailing_list=true&reason=research&api_key=mtlpqLlBesMh2I0vsRvVfHAxRXhJcYihT8X7gVrL&attributes=ghi,dhi,dni,wind_speed,air_temperature,solar_zenith_angle\n",
      "http://developer.nrel.gov/api/solar/nsrdb_psm3_download.csv?wkt=POINT(-87.63%2041.88)&names=2019&leap_day=false&interval=60&utc=false&full_name=Diamond+Williams&email=diamond.williams@engie.com&affiliation=ENGIE&mailing_list=true&reason=research&api_key=mtlpqLlBesMh2I0vsRvVfHAxRXhJcYihT8X7gVrL&attributes=ghi,dhi,dni,wind_speed,air_temperature,solar_zenith_angle\n",
      "http://developer.nrel.gov/api/solar/nsrdb_psm3_download.csv?wkt=POINT(-121.84%2039.73)&names=2019&leap_day=false&interval=60&utc=false&full_name=Diamond+Williams&email=diamond.williams@engie.com&affiliation=ENGIE&mailing_list=true&reason=research&api_key=mtlpqLlBesMh2I0vsRvVfHAxRXhJcYihT8X7gVrL&attributes=ghi,dhi,dni,wind_speed,air_temperature,solar_zenith_angle\n",
      "http://developer.nrel.gov/api/solar/nsrdb_psm3_download.csv?wkt=POINT(-82.98%2039.33)&names=2019&leap_day=false&interval=60&utc=false&full_name=Diamond+Williams&email=diamond.williams@engie.com&affiliation=ENGIE&mailing_list=true&reason=research&api_key=mtlpqLlBesMh2I0vsRvVfHAxRXhJcYihT8X7gVrL&attributes=ghi,dhi,dni,wind_speed,air_temperature,solar_zenith_angle\n",
      "http://developer.nrel.gov/api/solar/nsrdb_psm3_download.csv?wkt=POINT(-117.08%2032.64)&names=2019&leap_day=false&interval=60&utc=false&full_name=Diamond+Williams&email=diamond.williams@engie.com&affiliation=ENGIE&mailing_list=true&reason=research&api_key=mtlpqLlBesMh2I0vsRvVfHAxRXhJcYihT8X7gVrL&attributes=ghi,dhi,dni,wind_speed,air_temperature,solar_zenith_angle\n",
      "http://developer.nrel.gov/api/solar/nsrdb_psm3_download.csv?wkt=POINT(-84.51%2039.1)&names=2019&leap_day=false&interval=60&utc=false&full_name=Diamond+Williams&email=diamond.williams@engie.com&affiliation=ENGIE&mailing_list=true&reason=research&api_key=mtlpqLlBesMh2I0vsRvVfHAxRXhJcYihT8X7gVrL&attributes=ghi,dhi,dni,wind_speed,air_temperature,solar_zenith_angle\n"
     ]
    },
    {
     "name": "stdout",
     "output_type": "stream",
     "text": [
      "http://developer.nrel.gov/api/solar/nsrdb_psm3_download.csv?wkt=POINT(-84.51%2039.1)&names=2019&leap_day=false&interval=60&utc=false&full_name=Diamond+Williams&email=diamond.williams@engie.com&affiliation=ENGIE&mailing_list=true&reason=research&api_key=mtlpqLlBesMh2I0vsRvVfHAxRXhJcYihT8X7gVrL&attributes=ghi,dhi,dni,wind_speed,air_temperature,solar_zenith_angle\n",
      "http://developer.nrel.gov/api/solar/nsrdb_psm3_download.csv?wkt=POINT(-84.51%2039.1)&names=2019&leap_day=false&interval=60&utc=false&full_name=Diamond+Williams&email=diamond.williams@engie.com&affiliation=ENGIE&mailing_list=true&reason=research&api_key=mtlpqLlBesMh2I0vsRvVfHAxRXhJcYihT8X7gVrL&attributes=ghi,dhi,dni,wind_speed,air_temperature,solar_zenith_angle\n",
      "http://developer.nrel.gov/api/solar/nsrdb_psm3_download.csv?wkt=POINT(-84.51%2039.1)&names=2019&leap_day=false&interval=60&utc=false&full_name=Diamond+Williams&email=diamond.williams@engie.com&affiliation=ENGIE&mailing_list=true&reason=research&api_key=mtlpqLlBesMh2I0vsRvVfHAxRXhJcYihT8X7gVrL&attributes=ghi,dhi,dni,wind_speed,air_temperature,solar_zenith_angle\n",
      "http://developer.nrel.gov/api/solar/nsrdb_psm3_download.csv?wkt=POINT(-84.51%2039.1)&names=2019&leap_day=false&interval=60&utc=false&full_name=Diamond+Williams&email=diamond.williams@engie.com&affiliation=ENGIE&mailing_list=true&reason=research&api_key=mtlpqLlBesMh2I0vsRvVfHAxRXhJcYihT8X7gVrL&attributes=ghi,dhi,dni,wind_speed,air_temperature,solar_zenith_angle\n",
      "http://developer.nrel.gov/api/solar/nsrdb_psm3_download.csv?wkt=POINT(-84.51%2039.1)&names=2019&leap_day=false&interval=60&utc=false&full_name=Diamond+Williams&email=diamond.williams@engie.com&affiliation=ENGIE&mailing_list=true&reason=research&api_key=mtlpqLlBesMh2I0vsRvVfHAxRXhJcYihT8X7gVrL&attributes=ghi,dhi,dni,wind_speed,air_temperature,solar_zenith_angle\n",
      "http://developer.nrel.gov/api/solar/nsrdb_psm3_download.csv?wkt=POINT(-84.51%2039.1)&names=2019&leap_day=false&interval=60&utc=false&full_name=Diamond+Williams&email=diamond.williams@engie.com&affiliation=ENGIE&mailing_list=true&reason=research&api_key=mtlpqLlBesMh2I0vsRvVfHAxRXhJcYihT8X7gVrL&attributes=ghi,dhi,dni,wind_speed,air_temperature,solar_zenith_angle\n",
      "http://developer.nrel.gov/api/solar/nsrdb_psm3_download.csv?wkt=POINT(-74.91%2040.64)&names=2019&leap_day=false&interval=60&utc=false&full_name=Diamond+Williams&email=diamond.williams@engie.com&affiliation=ENGIE&mailing_list=true&reason=research&api_key=mtlpqLlBesMh2I0vsRvVfHAxRXhJcYihT8X7gVrL&attributes=ghi,dhi,dni,wind_speed,air_temperature,solar_zenith_angle\n",
      "http://developer.nrel.gov/api/solar/nsrdb_psm3_download.csv?wkt=POINT(-119.7%2036.83)&names=2019&leap_day=false&interval=60&utc=false&full_name=Diamond+Williams&email=diamond.williams@engie.com&affiliation=ENGIE&mailing_list=true&reason=research&api_key=mtlpqLlBesMh2I0vsRvVfHAxRXhJcYihT8X7gVrL&attributes=ghi,dhi,dni,wind_speed,air_temperature,solar_zenith_angle\n",
      "http://developer.nrel.gov/api/solar/nsrdb_psm3_download.csv?wkt=POINT(-119.7%2036.83)&names=2019&leap_day=false&interval=60&utc=false&full_name=Diamond+Williams&email=diamond.williams@engie.com&affiliation=ENGIE&mailing_list=true&reason=research&api_key=mtlpqLlBesMh2I0vsRvVfHAxRXhJcYihT8X7gVrL&attributes=ghi,dhi,dni,wind_speed,air_temperature,solar_zenith_angle\n",
      "http://developer.nrel.gov/api/solar/nsrdb_psm3_download.csv?wkt=POINT(-120.36%2036.14)&names=2019&leap_day=false&interval=60&utc=false&full_name=Diamond+Williams&email=diamond.williams@engie.com&affiliation=ENGIE&mailing_list=true&reason=research&api_key=mtlpqLlBesMh2I0vsRvVfHAxRXhJcYihT8X7gVrL&attributes=ghi,dhi,dni,wind_speed,air_temperature,solar_zenith_angle\n",
      "http://developer.nrel.gov/api/solar/nsrdb_psm3_download.csv?wkt=POINT(-83%2039.96)&names=2019&leap_day=false&interval=60&utc=false&full_name=Diamond+Williams&email=diamond.williams@engie.com&affiliation=ENGIE&mailing_list=true&reason=research&api_key=mtlpqLlBesMh2I0vsRvVfHAxRXhJcYihT8X7gVrL&attributes=ghi,dhi,dni,wind_speed,air_temperature,solar_zenith_angle\n",
      "http://developer.nrel.gov/api/solar/nsrdb_psm3_download.csv?wkt=POINT(-83%2039.96)&names=2019&leap_day=false&interval=60&utc=false&full_name=Diamond+Williams&email=diamond.williams@engie.com&affiliation=ENGIE&mailing_list=true&reason=research&api_key=mtlpqLlBesMh2I0vsRvVfHAxRXhJcYihT8X7gVrL&attributes=ghi,dhi,dni,wind_speed,air_temperature,solar_zenith_angle\n",
      "http://developer.nrel.gov/api/solar/nsrdb_psm3_download.csv?wkt=POINT(-83%2039.96)&names=2019&leap_day=false&interval=60&utc=false&full_name=Diamond+Williams&email=diamond.williams@engie.com&affiliation=ENGIE&mailing_list=true&reason=research&api_key=mtlpqLlBesMh2I0vsRvVfHAxRXhJcYihT8X7gVrL&attributes=ghi,dhi,dni,wind_speed,air_temperature,solar_zenith_angle\n",
      "http://developer.nrel.gov/api/solar/nsrdb_psm3_download.csv?wkt=POINT(-83%2039.96)&names=2019&leap_day=false&interval=60&utc=false&full_name=Diamond+Williams&email=diamond.williams@engie.com&affiliation=ENGIE&mailing_list=true&reason=research&api_key=mtlpqLlBesMh2I0vsRvVfHAxRXhJcYihT8X7gVrL&attributes=ghi,dhi,dni,wind_speed,air_temperature,solar_zenith_angle\n",
      "http://developer.nrel.gov/api/solar/nsrdb_psm3_download.csv?wkt=POINT(-83%2039.96)&names=2019&leap_day=false&interval=60&utc=false&full_name=Diamond+Williams&email=diamond.williams@engie.com&affiliation=ENGIE&mailing_list=true&reason=research&api_key=mtlpqLlBesMh2I0vsRvVfHAxRXhJcYihT8X7gVrL&attributes=ghi,dhi,dni,wind_speed,air_temperature,solar_zenith_angle\n",
      "http://developer.nrel.gov/api/solar/nsrdb_psm3_download.csv?wkt=POINT(-83%2039.96)&names=2019&leap_day=false&interval=60&utc=false&full_name=Diamond+Williams&email=diamond.williams@engie.com&affiliation=ENGIE&mailing_list=true&reason=research&api_key=mtlpqLlBesMh2I0vsRvVfHAxRXhJcYihT8X7gVrL&attributes=ghi,dhi,dni,wind_speed,air_temperature,solar_zenith_angle\n",
      "http://developer.nrel.gov/api/solar/nsrdb_psm3_download.csv?wkt=POINT(-83%2039.96)&names=2019&leap_day=false&interval=60&utc=false&full_name=Diamond+Williams&email=diamond.williams@engie.com&affiliation=ENGIE&mailing_list=true&reason=research&api_key=mtlpqLlBesMh2I0vsRvVfHAxRXhJcYihT8X7gVrL&attributes=ghi,dhi,dni,wind_speed,air_temperature,solar_zenith_angle\n",
      "http://developer.nrel.gov/api/solar/nsrdb_psm3_download.csv?wkt=POINT(-91.04%2045.38)&names=2019&leap_day=false&interval=60&utc=false&full_name=Diamond+Williams&email=diamond.williams@engie.com&affiliation=ENGIE&mailing_list=true&reason=research&api_key=mtlpqLlBesMh2I0vsRvVfHAxRXhJcYihT8X7gVrL&attributes=ghi,dhi,dni,wind_speed,air_temperature,solar_zenith_angle\n",
      "http://developer.nrel.gov/api/solar/nsrdb_psm3_download.csv?wkt=POINT(-117.57%2033.88)&names=2019&leap_day=false&interval=60&utc=false&full_name=Diamond+Williams&email=diamond.williams@engie.com&affiliation=ENGIE&mailing_list=true&reason=research&api_key=mtlpqLlBesMh2I0vsRvVfHAxRXhJcYihT8X7gVrL&attributes=ghi,dhi,dni,wind_speed,air_temperature,solar_zenith_angle\n",
      "http://developer.nrel.gov/api/solar/nsrdb_psm3_download.csv?wkt=POINT(-117.9%2033.66)&names=2019&leap_day=false&interval=60&utc=false&full_name=Diamond+Williams&email=diamond.williams@engie.com&affiliation=ENGIE&mailing_list=true&reason=research&api_key=mtlpqLlBesMh2I0vsRvVfHAxRXhJcYihT8X7gVrL&attributes=ghi,dhi,dni,wind_speed,air_temperature,solar_zenith_angle\n",
      "http://developer.nrel.gov/api/solar/nsrdb_psm3_download.csv?wkt=POINT(-117.9%2033.66)&names=2019&leap_day=false&interval=60&utc=false&full_name=Diamond+Williams&email=diamond.williams@engie.com&affiliation=ENGIE&mailing_list=true&reason=research&api_key=mtlpqLlBesMh2I0vsRvVfHAxRXhJcYihT8X7gVrL&attributes=ghi,dhi,dni,wind_speed,air_temperature,solar_zenith_angle\n",
      "http://developer.nrel.gov/api/solar/nsrdb_psm3_download.csv?wkt=POINT(-117.89%2034.09)&names=2019&leap_day=false&interval=60&utc=false&full_name=Diamond+Williams&email=diamond.williams@engie.com&affiliation=ENGIE&mailing_list=true&reason=research&api_key=mtlpqLlBesMh2I0vsRvVfHAxRXhJcYihT8X7gVrL&attributes=ghi,dhi,dni,wind_speed,air_temperature,solar_zenith_angle\n",
      "http://developer.nrel.gov/api/solar/nsrdb_psm3_download.csv?wkt=POINT(-96.8%2032.78)&names=2019&leap_day=false&interval=60&utc=false&full_name=Diamond+Williams&email=diamond.williams@engie.com&affiliation=ENGIE&mailing_list=true&reason=research&api_key=mtlpqLlBesMh2I0vsRvVfHAxRXhJcYihT8X7gVrL&attributes=ghi,dhi,dni,wind_speed,air_temperature,solar_zenith_angle\n"
     ]
    },
    {
     "name": "stdout",
     "output_type": "stream",
     "text": [
      "http://developer.nrel.gov/api/solar/nsrdb_psm3_download.csv?wkt=POINT(-84.39%2039.21)&names=2019&leap_day=false&interval=60&utc=false&full_name=Diamond+Williams&email=diamond.williams@engie.com&affiliation=ENGIE&mailing_list=true&reason=research&api_key=mtlpqLlBesMh2I0vsRvVfHAxRXhJcYihT8X7gVrL&attributes=ghi,dhi,dni,wind_speed,air_temperature,solar_zenith_angle\n",
      "http://developer.nrel.gov/api/solar/nsrdb_psm3_download.csv?wkt=POINT(-87.84%2042.17)&names=2019&leap_day=false&interval=60&utc=false&full_name=Diamond+Williams&email=diamond.williams@engie.com&affiliation=ENGIE&mailing_list=true&reason=research&api_key=mtlpqLlBesMh2I0vsRvVfHAxRXhJcYihT8X7gVrL&attributes=ghi,dhi,dni,wind_speed,air_temperature,solar_zenith_angle\n",
      "http://developer.nrel.gov/api/solar/nsrdb_psm3_download.csv?wkt=POINT(-84.36%2041.28)&names=2019&leap_day=false&interval=60&utc=false&full_name=Diamond+Williams&email=diamond.williams@engie.com&affiliation=ENGIE&mailing_list=true&reason=research&api_key=mtlpqLlBesMh2I0vsRvVfHAxRXhJcYihT8X7gVrL&attributes=ghi,dhi,dni,wind_speed,air_temperature,solar_zenith_angle\n",
      "http://developer.nrel.gov/api/solar/nsrdb_psm3_download.csv?wkt=POINT(-119.25%2035.77)&names=2019&leap_day=false&interval=60&utc=false&full_name=Diamond+Williams&email=diamond.williams@engie.com&affiliation=ENGIE&mailing_list=true&reason=research&api_key=mtlpqLlBesMh2I0vsRvVfHAxRXhJcYihT8X7gVrL&attributes=ghi,dhi,dni,wind_speed,air_temperature,solar_zenith_angle\n",
      "http://developer.nrel.gov/api/solar/nsrdb_psm3_download.csv?wkt=POINT(-118.13%2033.94)&names=2019&leap_day=false&interval=60&utc=false&full_name=Diamond+Williams&email=diamond.williams@engie.com&affiliation=ENGIE&mailing_list=true&reason=research&api_key=mtlpqLlBesMh2I0vsRvVfHAxRXhJcYihT8X7gVrL&attributes=ghi,dhi,dni,wind_speed,air_temperature,solar_zenith_angle\n",
      "http://developer.nrel.gov/api/solar/nsrdb_psm3_download.csv?wkt=POINT(-91.93%2044.78)&names=2019&leap_day=false&interval=60&utc=false&full_name=Diamond+Williams&email=diamond.williams@engie.com&affiliation=ENGIE&mailing_list=true&reason=research&api_key=mtlpqLlBesMh2I0vsRvVfHAxRXhJcYihT8X7gVrL&attributes=ghi,dhi,dni,wind_speed,air_temperature,solar_zenith_angle\n",
      "http://developer.nrel.gov/api/solar/nsrdb_psm3_download.csv?wkt=POINT(-91.93%2044.78)&names=2019&leap_day=false&interval=60&utc=false&full_name=Diamond+Williams&email=diamond.williams@engie.com&affiliation=ENGIE&mailing_list=true&reason=research&api_key=mtlpqLlBesMh2I0vsRvVfHAxRXhJcYihT8X7gVrL&attributes=ghi,dhi,dni,wind_speed,air_temperature,solar_zenith_angle\n",
      "http://developer.nrel.gov/api/solar/nsrdb_psm3_download.csv?wkt=POINT(-121.91%2037.72)&names=2019&leap_day=false&interval=60&utc=false&full_name=Diamond+Williams&email=diamond.williams@engie.com&affiliation=ENGIE&mailing_list=true&reason=research&api_key=mtlpqLlBesMh2I0vsRvVfHAxRXhJcYihT8X7gVrL&attributes=ghi,dhi,dni,wind_speed,air_temperature,solar_zenith_angle\n",
      "http://developer.nrel.gov/api/solar/nsrdb_psm3_download.csv?wkt=POINT(-121.91%2037.72)&names=2019&leap_day=false&interval=60&utc=false&full_name=Diamond+Williams&email=diamond.williams@engie.com&affiliation=ENGIE&mailing_list=true&reason=research&api_key=mtlpqLlBesMh2I0vsRvVfHAxRXhJcYihT8X7gVrL&attributes=ghi,dhi,dni,wind_speed,air_temperature,solar_zenith_angle\n",
      "http://developer.nrel.gov/api/solar/nsrdb_psm3_download.csv?wkt=POINT(-121.91%2037.72)&names=2019&leap_day=false&interval=60&utc=false&full_name=Diamond+Williams&email=diamond.williams@engie.com&affiliation=ENGIE&mailing_list=true&reason=research&api_key=mtlpqLlBesMh2I0vsRvVfHAxRXhJcYihT8X7gVrL&attributes=ghi,dhi,dni,wind_speed,air_temperature,solar_zenith_angle\n",
      "http://developer.nrel.gov/api/solar/nsrdb_psm3_download.csv?wkt=POINT(-72.51%2042.06)&names=2019&leap_day=false&interval=60&utc=false&full_name=Diamond+Williams&email=diamond.williams@engie.com&affiliation=ENGIE&mailing_list=true&reason=research&api_key=mtlpqLlBesMh2I0vsRvVfHAxRXhJcYihT8X7gVrL&attributes=ghi,dhi,dni,wind_speed,air_temperature,solar_zenith_angle\n",
      "http://developer.nrel.gov/api/solar/nsrdb_psm3_download.csv?wkt=POINT(-84.64%2039.74)&names=2019&leap_day=false&interval=60&utc=false&full_name=Diamond+Williams&email=diamond.williams@engie.com&affiliation=ENGIE&mailing_list=true&reason=research&api_key=mtlpqLlBesMh2I0vsRvVfHAxRXhJcYihT8X7gVrL&attributes=ghi,dhi,dni,wind_speed,air_temperature,solar_zenith_angle\n",
      "http://developer.nrel.gov/api/solar/nsrdb_psm3_download.csv?wkt=POINT(-74.62%2039.38)&names=2019&leap_day=false&interval=60&utc=false&full_name=Diamond+Williams&email=diamond.williams@engie.com&affiliation=ENGIE&mailing_list=true&reason=research&api_key=mtlpqLlBesMh2I0vsRvVfHAxRXhJcYihT8X7gVrL&attributes=ghi,dhi,dni,wind_speed,air_temperature,solar_zenith_angle\n",
      "http://developer.nrel.gov/api/solar/nsrdb_psm3_download.csv?wkt=POINT(-84.3%2039.88)&names=2019&leap_day=false&interval=60&utc=false&full_name=Diamond+Williams&email=diamond.williams@engie.com&affiliation=ENGIE&mailing_list=true&reason=research&api_key=mtlpqLlBesMh2I0vsRvVfHAxRXhJcYihT8X7gVrL&attributes=ghi,dhi,dni,wind_speed,air_temperature,solar_zenith_angle\n",
      "http://developer.nrel.gov/api/solar/nsrdb_psm3_download.csv?wkt=POINT(-87.6877%2042.0451)&names=2019&leap_day=false&interval=60&utc=false&full_name=Diamond+Williams&email=diamond.williams@engie.com&affiliation=ENGIE&mailing_list=true&reason=research&api_key=mtlpqLlBesMh2I0vsRvVfHAxRXhJcYihT8X7gVrL&attributes=ghi,dhi,dni,wind_speed,air_temperature,solar_zenith_angle\n",
      "http://developer.nrel.gov/api/solar/nsrdb_psm3_download.csv?wkt=POINT(-87.69%2042.05)&names=2019&leap_day=false&interval=60&utc=false&full_name=Diamond+Williams&email=diamond.williams@engie.com&affiliation=ENGIE&mailing_list=true&reason=research&api_key=mtlpqLlBesMh2I0vsRvVfHAxRXhJcYihT8X7gVrL&attributes=ghi,dhi,dni,wind_speed,air_temperature,solar_zenith_angle\n",
      "http://developer.nrel.gov/api/solar/nsrdb_psm3_download.csv?wkt=POINT(-84.02%2039.82)&names=2019&leap_day=false&interval=60&utc=false&full_name=Diamond+Williams&email=diamond.williams@engie.com&affiliation=ENGIE&mailing_list=true&reason=research&api_key=mtlpqLlBesMh2I0vsRvVfHAxRXhJcYihT8X7gVrL&attributes=ghi,dhi,dni,wind_speed,air_temperature,solar_zenith_angle\n",
      "http://developer.nrel.gov/api/solar/nsrdb_psm3_download.csv?wkt=POINT(-119.21%2036.3)&names=2019&leap_day=false&interval=60&utc=false&full_name=Diamond+Williams&email=diamond.williams@engie.com&affiliation=ENGIE&mailing_list=true&reason=research&api_key=mtlpqLlBesMh2I0vsRvVfHAxRXhJcYihT8X7gVrL&attributes=ghi,dhi,dni,wind_speed,air_temperature,solar_zenith_angle\n",
      "http://developer.nrel.gov/api/solar/nsrdb_psm3_download.csv?wkt=POINT(-104.94%2040.11)&names=2019&leap_day=false&interval=60&utc=false&full_name=Diamond+Williams&email=diamond.williams@engie.com&affiliation=ENGIE&mailing_list=true&reason=research&api_key=mtlpqLlBesMh2I0vsRvVfHAxRXhJcYihT8X7gVrL&attributes=ghi,dhi,dni,wind_speed,air_temperature,solar_zenith_angle\n",
      "http://developer.nrel.gov/api/solar/nsrdb_psm3_download.csv?wkt=POINT(-117.44%2034.09)&names=2019&leap_day=false&interval=60&utc=false&full_name=Diamond+Williams&email=diamond.williams@engie.com&affiliation=ENGIE&mailing_list=true&reason=research&api_key=mtlpqLlBesMh2I0vsRvVfHAxRXhJcYihT8X7gVrL&attributes=ghi,dhi,dni,wind_speed,air_temperature,solar_zenith_angle\n",
      "http://developer.nrel.gov/api/solar/nsrdb_psm3_download.csv?wkt=POINT(-117.44%2034.09)&names=2019&leap_day=false&interval=60&utc=false&full_name=Diamond+Williams&email=diamond.williams@engie.com&affiliation=ENGIE&mailing_list=true&reason=research&api_key=mtlpqLlBesMh2I0vsRvVfHAxRXhJcYihT8X7gVrL&attributes=ghi,dhi,dni,wind_speed,air_temperature,solar_zenith_angle\n",
      "http://developer.nrel.gov/api/solar/nsrdb_psm3_download.csv?wkt=POINT(-84.5%2039.29)&names=2019&leap_day=false&interval=60&utc=false&full_name=Diamond+Williams&email=diamond.williams@engie.com&affiliation=ENGIE&mailing_list=true&reason=research&api_key=mtlpqLlBesMh2I0vsRvVfHAxRXhJcYihT8X7gVrL&attributes=ghi,dhi,dni,wind_speed,air_temperature,solar_zenith_angle\n",
      "http://developer.nrel.gov/api/solar/nsrdb_psm3_download.csv?wkt=POINT(-97.33%2032.76)&names=2019&leap_day=false&interval=60&utc=false&full_name=Diamond+Williams&email=diamond.williams@engie.com&affiliation=ENGIE&mailing_list=true&reason=research&api_key=mtlpqLlBesMh2I0vsRvVfHAxRXhJcYihT8X7gVrL&attributes=ghi,dhi,dni,wind_speed,air_temperature,solar_zenith_angle\n"
     ]
    },
    {
     "name": "stdout",
     "output_type": "stream",
     "text": [
      "http://developer.nrel.gov/api/solar/nsrdb_psm3_download.csv?wkt=POINT(-71.42%2042.28)&names=2019&leap_day=false&interval=60&utc=false&full_name=Diamond+Williams&email=diamond.williams@engie.com&affiliation=ENGIE&mailing_list=true&reason=research&api_key=mtlpqLlBesMh2I0vsRvVfHAxRXhJcYihT8X7gVrL&attributes=ghi,dhi,dni,wind_speed,air_temperature,solar_zenith_angle\n",
      "http://developer.nrel.gov/api/solar/nsrdb_psm3_download.csv?wkt=POINT(-121.99%2037.55)&names=2019&leap_day=false&interval=60&utc=false&full_name=Diamond+Williams&email=diamond.williams@engie.com&affiliation=ENGIE&mailing_list=true&reason=research&api_key=mtlpqLlBesMh2I0vsRvVfHAxRXhJcYihT8X7gVrL&attributes=ghi,dhi,dni,wind_speed,air_temperature,solar_zenith_angle\n",
      "http://developer.nrel.gov/api/solar/nsrdb_psm3_download.csv?wkt=POINT(-119.79%2036.74)&names=2019&leap_day=false&interval=60&utc=false&full_name=Diamond+Williams&email=diamond.williams@engie.com&affiliation=ENGIE&mailing_list=true&reason=research&api_key=mtlpqLlBesMh2I0vsRvVfHAxRXhJcYihT8X7gVrL&attributes=ghi,dhi,dni,wind_speed,air_temperature,solar_zenith_angle\n",
      "http://developer.nrel.gov/api/solar/nsrdb_psm3_download.csv?wkt=POINT(-119.79%2036.74)&names=2019&leap_day=false&interval=60&utc=false&full_name=Diamond+Williams&email=diamond.williams@engie.com&affiliation=ENGIE&mailing_list=true&reason=research&api_key=mtlpqLlBesMh2I0vsRvVfHAxRXhJcYihT8X7gVrL&attributes=ghi,dhi,dni,wind_speed,air_temperature,solar_zenith_angle\n",
      "http://developer.nrel.gov/api/solar/nsrdb_psm3_download.csv?wkt=POINT(-119.79%2036.74)&names=2019&leap_day=false&interval=60&utc=false&full_name=Diamond+Williams&email=diamond.williams@engie.com&affiliation=ENGIE&mailing_list=true&reason=research&api_key=mtlpqLlBesMh2I0vsRvVfHAxRXhJcYihT8X7gVrL&attributes=ghi,dhi,dni,wind_speed,air_temperature,solar_zenith_angle\n",
      "http://developer.nrel.gov/api/solar/nsrdb_psm3_download.csv?wkt=POINT(-119.79%2036.74)&names=2019&leap_day=false&interval=60&utc=false&full_name=Diamond+Williams&email=diamond.williams@engie.com&affiliation=ENGIE&mailing_list=true&reason=research&api_key=mtlpqLlBesMh2I0vsRvVfHAxRXhJcYihT8X7gVrL&attributes=ghi,dhi,dni,wind_speed,air_temperature,solar_zenith_angle\n",
      "http://developer.nrel.gov/api/solar/nsrdb_psm3_download.csv?wkt=POINT(-119.79%2036.74)&names=2019&leap_day=false&interval=60&utc=false&full_name=Diamond+Williams&email=diamond.williams@engie.com&affiliation=ENGIE&mailing_list=true&reason=research&api_key=mtlpqLlBesMh2I0vsRvVfHAxRXhJcYihT8X7gVrL&attributes=ghi,dhi,dni,wind_speed,air_temperature,solar_zenith_angle\n",
      "http://developer.nrel.gov/api/solar/nsrdb_psm3_download.csv?wkt=POINT(-119.79%2036.74)&names=2019&leap_day=false&interval=60&utc=false&full_name=Diamond+Williams&email=diamond.williams@engie.com&affiliation=ENGIE&mailing_list=true&reason=research&api_key=mtlpqLlBesMh2I0vsRvVfHAxRXhJcYihT8X7gVrL&attributes=ghi,dhi,dni,wind_speed,air_temperature,solar_zenith_angle\n",
      "http://developer.nrel.gov/api/solar/nsrdb_psm3_download.csv?wkt=POINT(-119.79%2036.74)&names=2019&leap_day=false&interval=60&utc=false&full_name=Diamond+Williams&email=diamond.williams@engie.com&affiliation=ENGIE&mailing_list=true&reason=research&api_key=mtlpqLlBesMh2I0vsRvVfHAxRXhJcYihT8X7gVrL&attributes=ghi,dhi,dni,wind_speed,air_temperature,solar_zenith_angle\n",
      "http://developer.nrel.gov/api/solar/nsrdb_psm3_download.csv?wkt=POINT(-117.92%2033.87)&names=2019&leap_day=false&interval=60&utc=false&full_name=Diamond+Williams&email=diamond.williams@engie.com&affiliation=ENGIE&mailing_list=true&reason=research&api_key=mtlpqLlBesMh2I0vsRvVfHAxRXhJcYihT8X7gVrL&attributes=ghi,dhi,dni,wind_speed,air_temperature,solar_zenith_angle\n",
      "http://developer.nrel.gov/api/solar/nsrdb_psm3_download.csv?wkt=POINT(-83.16%2039.91)&names=2019&leap_day=false&interval=60&utc=false&full_name=Diamond+Williams&email=diamond.williams@engie.com&affiliation=ENGIE&mailing_list=true&reason=research&api_key=mtlpqLlBesMh2I0vsRvVfHAxRXhJcYihT8X7gVrL&attributes=ghi,dhi,dni,wind_speed,air_temperature,solar_zenith_angle\n",
      "http://developer.nrel.gov/api/solar/nsrdb_psm3_download.csv?wkt=POINT(-117.94%2033.77)&names=2019&leap_day=false&interval=60&utc=false&full_name=Diamond+Williams&email=diamond.williams@engie.com&affiliation=ENGIE&mailing_list=true&reason=research&api_key=mtlpqLlBesMh2I0vsRvVfHAxRXhJcYihT8X7gVrL&attributes=ghi,dhi,dni,wind_speed,air_temperature,solar_zenith_angle\n",
      "http://developer.nrel.gov/api/solar/nsrdb_psm3_download.csv?wkt=POINT(-118.26%2034.14)&names=2019&leap_day=false&interval=60&utc=false&full_name=Diamond+Williams&email=diamond.williams@engie.com&affiliation=ENGIE&mailing_list=true&reason=research&api_key=mtlpqLlBesMh2I0vsRvVfHAxRXhJcYihT8X7gVrL&attributes=ghi,dhi,dni,wind_speed,air_temperature,solar_zenith_angle\n",
      "http://developer.nrel.gov/api/solar/nsrdb_psm3_download.csv?wkt=POINT(-87.82%2042.08)&names=2019&leap_day=false&interval=60&utc=false&full_name=Diamond+Williams&email=diamond.williams@engie.com&affiliation=ENGIE&mailing_list=true&reason=research&api_key=mtlpqLlBesMh2I0vsRvVfHAxRXhJcYihT8X7gVrL&attributes=ghi,dhi,dni,wind_speed,air_temperature,solar_zenith_angle\n",
      "http://developer.nrel.gov/api/solar/nsrdb_psm3_download.csv?wkt=POINT(-93.08%2045.63)&names=2019&leap_day=false&interval=60&utc=false&full_name=Diamond+Williams&email=diamond.williams@engie.com&affiliation=ENGIE&mailing_list=true&reason=research&api_key=mtlpqLlBesMh2I0vsRvVfHAxRXhJcYihT8X7gVrL&attributes=ghi,dhi,dni,wind_speed,air_temperature,solar_zenith_angle\n",
      "http://developer.nrel.gov/api/solar/nsrdb_psm3_download.csv?wkt=POINT(-93.23%2044.97)&names=2019&leap_day=false&interval=60&utc=false&full_name=Diamond+Williams&email=diamond.williams@engie.com&affiliation=ENGIE&mailing_list=true&reason=research&api_key=mtlpqLlBesMh2I0vsRvVfHAxRXhJcYihT8X7gVrL&attributes=ghi,dhi,dni,wind_speed,air_temperature,solar_zenith_angle\n",
      "http://developer.nrel.gov/api/solar/nsrdb_psm3_download.csv?wkt=POINT(-93.23%2044.97)&names=2019&leap_day=false&interval=60&utc=false&full_name=Diamond+Williams&email=diamond.williams@engie.com&affiliation=ENGIE&mailing_list=true&reason=research&api_key=mtlpqLlBesMh2I0vsRvVfHAxRXhJcYihT8X7gVrL&attributes=ghi,dhi,dni,wind_speed,air_temperature,solar_zenith_angle\n",
      "http://developer.nrel.gov/api/solar/nsrdb_psm3_download.csv?wkt=POINT(-93.23%2044.97)&names=2019&leap_day=false&interval=60&utc=false&full_name=Diamond+Williams&email=diamond.williams@engie.com&affiliation=ENGIE&mailing_list=true&reason=research&api_key=mtlpqLlBesMh2I0vsRvVfHAxRXhJcYihT8X7gVrL&attributes=ghi,dhi,dni,wind_speed,air_temperature,solar_zenith_angle\n",
      "http://developer.nrel.gov/api/solar/nsrdb_psm3_download.csv?wkt=POINT(-93.23%2044.97)&names=2019&leap_day=false&interval=60&utc=false&full_name=Diamond+Williams&email=diamond.williams@engie.com&affiliation=ENGIE&mailing_list=true&reason=research&api_key=mtlpqLlBesMh2I0vsRvVfHAxRXhJcYihT8X7gVrL&attributes=ghi,dhi,dni,wind_speed,air_temperature,solar_zenith_angle\n",
      "http://developer.nrel.gov/api/solar/nsrdb_psm3_download.csv?wkt=POINT(-93.23%2044.97)&names=2019&leap_day=false&interval=60&utc=false&full_name=Diamond+Williams&email=diamond.williams@engie.com&affiliation=ENGIE&mailing_list=true&reason=research&api_key=mtlpqLlBesMh2I0vsRvVfHAxRXhJcYihT8X7gVrL&attributes=ghi,dhi,dni,wind_speed,air_temperature,solar_zenith_angle\n",
      "http://developer.nrel.gov/api/solar/nsrdb_psm3_download.csv?wkt=POINT(-121.16%2038.76)&names=2019&leap_day=false&interval=60&utc=false&full_name=Diamond+Williams&email=diamond.williams@engie.com&affiliation=ENGIE&mailing_list=true&reason=research&api_key=mtlpqLlBesMh2I0vsRvVfHAxRXhJcYihT8X7gVrL&attributes=ghi,dhi,dni,wind_speed,air_temperature,solar_zenith_angle\n",
      "http://developer.nrel.gov/api/solar/nsrdb_psm3_download.csv?wkt=POINT(-97.08%2032.93)&names=2019&leap_day=false&interval=60&utc=false&full_name=Diamond+Williams&email=diamond.williams@engie.com&affiliation=ENGIE&mailing_list=true&reason=research&api_key=mtlpqLlBesMh2I0vsRvVfHAxRXhJcYihT8X7gVrL&attributes=ghi,dhi,dni,wind_speed,air_temperature,solar_zenith_angle\n",
      "http://developer.nrel.gov/api/solar/nsrdb_psm3_download.csv?wkt=POINT(-121.06%2039.22)&names=2019&leap_day=false&interval=60&utc=false&full_name=Diamond+Williams&email=diamond.williams@engie.com&affiliation=ENGIE&mailing_list=true&reason=research&api_key=mtlpqLlBesMh2I0vsRvVfHAxRXhJcYihT8X7gVrL&attributes=ghi,dhi,dni,wind_speed,air_temperature,solar_zenith_angle\n"
     ]
    },
    {
     "name": "stdout",
     "output_type": "stream",
     "text": [
      "http://developer.nrel.gov/api/solar/nsrdb_psm3_download.csv?wkt=POINT(-77.37%2035.61)&names=2019&leap_day=false&interval=60&utc=false&full_name=Diamond+Williams&email=diamond.williams@engie.com&affiliation=ENGIE&mailing_list=true&reason=research&api_key=mtlpqLlBesMh2I0vsRvVfHAxRXhJcYihT8X7gVrL&attributes=ghi,dhi,dni,wind_speed,air_temperature,solar_zenith_angle\n",
      "http://developer.nrel.gov/api/solar/nsrdb_psm3_download.csv?wkt=POINT(-83.09%2039.88)&names=2019&leap_day=false&interval=60&utc=false&full_name=Diamond+Williams&email=diamond.williams@engie.com&affiliation=ENGIE&mailing_list=true&reason=research&api_key=mtlpqLlBesMh2I0vsRvVfHAxRXhJcYihT8X7gVrL&attributes=ghi,dhi,dni,wind_speed,air_temperature,solar_zenith_angle\n",
      "http://developer.nrel.gov/api/solar/nsrdb_psm3_download.csv?wkt=POINT(-72.67%2041.29)&names=2019&leap_day=false&interval=60&utc=false&full_name=Diamond+Williams&email=diamond.williams@engie.com&affiliation=ENGIE&mailing_list=true&reason=research&api_key=mtlpqLlBesMh2I0vsRvVfHAxRXhJcYihT8X7gVrL&attributes=ghi,dhi,dni,wind_speed,air_temperature,solar_zenith_angle\n",
      "http://developer.nrel.gov/api/solar/nsrdb_psm3_download.csv?wkt=POINT(-77.72%2039.64)&names=2019&leap_day=false&interval=60&utc=false&full_name=Diamond+Williams&email=diamond.williams@engie.com&affiliation=ENGIE&mailing_list=true&reason=research&api_key=mtlpqLlBesMh2I0vsRvVfHAxRXhJcYihT8X7gVrL&attributes=ghi,dhi,dni,wind_speed,air_temperature,solar_zenith_angle\n",
      "http://developer.nrel.gov/api/solar/nsrdb_psm3_download.csv?wkt=POINT(-93%2044.61)&names=2019&leap_day=false&interval=60&utc=false&full_name=Diamond+Williams&email=diamond.williams@engie.com&affiliation=ENGIE&mailing_list=true&reason=research&api_key=mtlpqLlBesMh2I0vsRvVfHAxRXhJcYihT8X7gVrL&attributes=ghi,dhi,dni,wind_speed,air_temperature,solar_zenith_angle\n",
      "http://developer.nrel.gov/api/solar/nsrdb_psm3_download.csv?wkt=POINT(-116.97%2033.75)&names=2019&leap_day=false&interval=60&utc=false&full_name=Diamond+Williams&email=diamond.williams@engie.com&affiliation=ENGIE&mailing_list=true&reason=research&api_key=mtlpqLlBesMh2I0vsRvVfHAxRXhJcYihT8X7gVrL&attributes=ghi,dhi,dni,wind_speed,air_temperature,solar_zenith_angle\n",
      "http://developer.nrel.gov/api/solar/nsrdb_psm3_download.csv?wkt=POINT(-116.97%2033.75)&names=2019&leap_day=false&interval=60&utc=false&full_name=Diamond+Williams&email=diamond.williams@engie.com&affiliation=ENGIE&mailing_list=true&reason=research&api_key=mtlpqLlBesMh2I0vsRvVfHAxRXhJcYihT8X7gVrL&attributes=ghi,dhi,dni,wind_speed,air_temperature,solar_zenith_angle\n",
      "http://developer.nrel.gov/api/solar/nsrdb_psm3_download.csv?wkt=POINT(-117.3%2034.43)&names=2019&leap_day=false&interval=60&utc=false&full_name=Diamond+Williams&email=diamond.williams@engie.com&affiliation=ENGIE&mailing_list=true&reason=research&api_key=mtlpqLlBesMh2I0vsRvVfHAxRXhJcYihT8X7gVrL&attributes=ghi,dhi,dni,wind_speed,air_temperature,solar_zenith_angle\n",
      "http://developer.nrel.gov/api/solar/nsrdb_psm3_download.csv?wkt=POINT(-117.3%2034.43)&names=2019&leap_day=false&interval=60&utc=false&full_name=Diamond+Williams&email=diamond.williams@engie.com&affiliation=ENGIE&mailing_list=true&reason=research&api_key=mtlpqLlBesMh2I0vsRvVfHAxRXhJcYihT8X7gVrL&attributes=ghi,dhi,dni,wind_speed,air_temperature,solar_zenith_angle\n",
      "http://developer.nrel.gov/api/solar/nsrdb_psm3_download.csv?wkt=POINT(-117.3%2034.43)&names=2019&leap_day=false&interval=60&utc=false&full_name=Diamond+Williams&email=diamond.williams@engie.com&affiliation=ENGIE&mailing_list=true&reason=research&api_key=mtlpqLlBesMh2I0vsRvVfHAxRXhJcYihT8X7gVrL&attributes=ghi,dhi,dni,wind_speed,air_temperature,solar_zenith_angle\n",
      "http://developer.nrel.gov/api/solar/nsrdb_psm3_download.csv?wkt=POINT(-83.16%2040.03)&names=2019&leap_day=false&interval=60&utc=false&full_name=Diamond+Williams&email=diamond.williams@engie.com&affiliation=ENGIE&mailing_list=true&reason=research&api_key=mtlpqLlBesMh2I0vsRvVfHAxRXhJcYihT8X7gVrL&attributes=ghi,dhi,dni,wind_speed,air_temperature,solar_zenith_angle\n",
      "http://developer.nrel.gov/api/solar/nsrdb_psm3_download.csv?wkt=POINT(-83.61%2039.2)&names=2019&leap_day=false&interval=60&utc=false&full_name=Diamond+Williams&email=diamond.williams@engie.com&affiliation=ENGIE&mailing_list=true&reason=research&api_key=mtlpqLlBesMh2I0vsRvVfHAxRXhJcYihT8X7gVrL&attributes=ghi,dhi,dni,wind_speed,air_temperature,solar_zenith_angle\n",
      "http://developer.nrel.gov/api/solar/nsrdb_psm3_download.csv?wkt=POINT(-71.01%2042.14)&names=2019&leap_day=false&interval=60&utc=false&full_name=Diamond+Williams&email=diamond.williams@engie.com&affiliation=ENGIE&mailing_list=true&reason=research&api_key=mtlpqLlBesMh2I0vsRvVfHAxRXhJcYihT8X7gVrL&attributes=ghi,dhi,dni,wind_speed,air_temperature,solar_zenith_angle\n",
      "http://developer.nrel.gov/api/solar/nsrdb_psm3_download.csv?wkt=POINT(-74.18%2040.35)&names=2019&leap_day=false&interval=60&utc=false&full_name=Diamond+Williams&email=diamond.williams@engie.com&affiliation=ENGIE&mailing_list=true&reason=research&api_key=mtlpqLlBesMh2I0vsRvVfHAxRXhJcYihT8X7gVrL&attributes=ghi,dhi,dni,wind_speed,air_temperature,solar_zenith_angle\n",
      "http://developer.nrel.gov/api/solar/nsrdb_psm3_download.csv?wkt=POINT(-84.12%2039.84)&names=2019&leap_day=false&interval=60&utc=false&full_name=Diamond+Williams&email=diamond.williams@engie.com&affiliation=ENGIE&mailing_list=true&reason=research&api_key=mtlpqLlBesMh2I0vsRvVfHAxRXhJcYihT8X7gVrL&attributes=ghi,dhi,dni,wind_speed,air_temperature,solar_zenith_angle\n",
      "http://developer.nrel.gov/api/solar/nsrdb_psm3_download.csv?wkt=POINT(-96.71%2032.65)&names=2019&leap_day=false&interval=60&utc=false&full_name=Diamond+Williams&email=diamond.williams@engie.com&affiliation=ENGIE&mailing_list=true&reason=research&api_key=mtlpqLlBesMh2I0vsRvVfHAxRXhJcYihT8X7gVrL&attributes=ghi,dhi,dni,wind_speed,air_temperature,solar_zenith_angle\n",
      "http://developer.nrel.gov/api/solar/nsrdb_psm3_download.csv?wkt=POINT(-96.71%2032.65)&names=2019&leap_day=false&interval=60&utc=false&full_name=Diamond+Williams&email=diamond.williams@engie.com&affiliation=ENGIE&mailing_list=true&reason=research&api_key=mtlpqLlBesMh2I0vsRvVfHAxRXhJcYihT8X7gVrL&attributes=ghi,dhi,dni,wind_speed,air_temperature,solar_zenith_angle\n",
      "http://developer.nrel.gov/api/solar/nsrdb_psm3_download.csv?wkt=POINT(-97.93%2038.06)&names=2019&leap_day=false&interval=60&utc=false&full_name=Diamond+Williams&email=diamond.williams@engie.com&affiliation=ENGIE&mailing_list=true&reason=research&api_key=mtlpqLlBesMh2I0vsRvVfHAxRXhJcYihT8X7gVrL&attributes=ghi,dhi,dni,wind_speed,air_temperature,solar_zenith_angle\n",
      "http://developer.nrel.gov/api/solar/nsrdb_psm3_download.csv?wkt=POINT(-88.01%2041.98)&names=2019&leap_day=false&interval=60&utc=false&full_name=Diamond+Williams&email=diamond.williams@engie.com&affiliation=ENGIE&mailing_list=true&reason=research&api_key=mtlpqLlBesMh2I0vsRvVfHAxRXhJcYihT8X7gVrL&attributes=ghi,dhi,dni,wind_speed,air_temperature,solar_zenith_angle\n",
      "http://developer.nrel.gov/api/solar/nsrdb_psm3_download.csv?wkt=POINT(-88.01%2041.98)&names=2019&leap_day=false&interval=60&utc=false&full_name=Diamond+Williams&email=diamond.williams@engie.com&affiliation=ENGIE&mailing_list=true&reason=research&api_key=mtlpqLlBesMh2I0vsRvVfHAxRXhJcYihT8X7gVrL&attributes=ghi,dhi,dni,wind_speed,air_temperature,solar_zenith_angle\n",
      "http://developer.nrel.gov/api/solar/nsrdb_psm3_download.csv?wkt=POINT(-88.08%2041.53)&names=2019&leap_day=false&interval=60&utc=false&full_name=Diamond+Williams&email=diamond.williams@engie.com&affiliation=ENGIE&mailing_list=true&reason=research&api_key=mtlpqLlBesMh2I0vsRvVfHAxRXhJcYihT8X7gVrL&attributes=ghi,dhi,dni,wind_speed,air_temperature,solar_zenith_angle\n",
      "http://developer.nrel.gov/api/solar/nsrdb_psm3_download.csv?wkt=POINT(-88.08%2041.53)&names=2019&leap_day=false&interval=60&utc=false&full_name=Diamond+Williams&email=diamond.williams@engie.com&affiliation=ENGIE&mailing_list=true&reason=research&api_key=mtlpqLlBesMh2I0vsRvVfHAxRXhJcYihT8X7gVrL&attributes=ghi,dhi,dni,wind_speed,air_temperature,solar_zenith_angle\n",
      "http://developer.nrel.gov/api/solar/nsrdb_psm3_download.csv?wkt=POINT(-99.08%2040.7)&names=2019&leap_day=false&interval=60&utc=false&full_name=Diamond+Williams&email=diamond.williams@engie.com&affiliation=ENGIE&mailing_list=true&reason=research&api_key=mtlpqLlBesMh2I0vsRvVfHAxRXhJcYihT8X7gVrL&attributes=ghi,dhi,dni,wind_speed,air_temperature,solar_zenith_angle\n"
     ]
    },
    {
     "name": "stdout",
     "output_type": "stream",
     "text": [
      "http://developer.nrel.gov/api/solar/nsrdb_psm3_download.csv?wkt=POINT(-119.55%2036.15)&names=2019&leap_day=false&interval=60&utc=false&full_name=Diamond+Williams&email=diamond.williams@engie.com&affiliation=ENGIE&mailing_list=true&reason=research&api_key=mtlpqLlBesMh2I0vsRvVfHAxRXhJcYihT8X7gVrL&attributes=ghi,dhi,dni,wind_speed,air_temperature,solar_zenith_angle\n",
      "http://developer.nrel.gov/api/solar/nsrdb_psm3_download.csv?wkt=POINT(-117.95%2033.93)&names=2019&leap_day=false&interval=60&utc=false&full_name=Diamond+Williams&email=diamond.williams@engie.com&affiliation=ENGIE&mailing_list=true&reason=research&api_key=mtlpqLlBesMh2I0vsRvVfHAxRXhJcYihT8X7gVrL&attributes=ghi,dhi,dni,wind_speed,air_temperature,solar_zenith_angle\n",
      "http://developer.nrel.gov/api/solar/nsrdb_psm3_download.csv?wkt=POINT(-116.31%2033.66)&names=2019&leap_day=false&interval=60&utc=false&full_name=Diamond+Williams&email=diamond.williams@engie.com&affiliation=ENGIE&mailing_list=true&reason=research&api_key=mtlpqLlBesMh2I0vsRvVfHAxRXhJcYihT8X7gVrL&attributes=ghi,dhi,dni,wind_speed,air_temperature,solar_zenith_angle\n",
      "http://developer.nrel.gov/api/solar/nsrdb_psm3_download.csv?wkt=POINT(-91.27%2044.9)&names=2019&leap_day=false&interval=60&utc=false&full_name=Diamond+Williams&email=diamond.williams@engie.com&affiliation=ENGIE&mailing_list=true&reason=research&api_key=mtlpqLlBesMh2I0vsRvVfHAxRXhJcYihT8X7gVrL&attributes=ghi,dhi,dni,wind_speed,air_temperature,solar_zenith_angle\n",
      "http://developer.nrel.gov/api/solar/nsrdb_psm3_download.csv?wkt=POINT(-94.43%2045.43)&names=2019&leap_day=false&interval=60&utc=false&full_name=Diamond+Williams&email=diamond.williams@engie.com&affiliation=ENGIE&mailing_list=true&reason=research&api_key=mtlpqLlBesMh2I0vsRvVfHAxRXhJcYihT8X7gVrL&attributes=ghi,dhi,dni,wind_speed,air_temperature,solar_zenith_angle\n",
      "http://developer.nrel.gov/api/solar/nsrdb_psm3_download.csv?wkt=POINT(-94.43%2045.43)&names=2019&leap_day=false&interval=60&utc=false&full_name=Diamond+Williams&email=diamond.williams@engie.com&affiliation=ENGIE&mailing_list=true&reason=research&api_key=mtlpqLlBesMh2I0vsRvVfHAxRXhJcYihT8X7gVrL&attributes=ghi,dhi,dni,wind_speed,air_temperature,solar_zenith_angle\n",
      "http://developer.nrel.gov/api/solar/nsrdb_psm3_download.csv?wkt=POINT(-94.43%2045.43)&names=2019&leap_day=false&interval=60&utc=false&full_name=Diamond+Williams&email=diamond.williams@engie.com&affiliation=ENGIE&mailing_list=true&reason=research&api_key=mtlpqLlBesMh2I0vsRvVfHAxRXhJcYihT8X7gVrL&attributes=ghi,dhi,dni,wind_speed,air_temperature,solar_zenith_angle\n",
      "http://developer.nrel.gov/api/solar/nsrdb_psm3_download.csv?wkt=POINT(-94.43%2045.43)&names=2019&leap_day=false&interval=60&utc=false&full_name=Diamond+Williams&email=diamond.williams@engie.com&affiliation=ENGIE&mailing_list=true&reason=research&api_key=mtlpqLlBesMh2I0vsRvVfHAxRXhJcYihT8X7gVrL&attributes=ghi,dhi,dni,wind_speed,air_temperature,solar_zenith_angle\n",
      "http://developer.nrel.gov/api/solar/nsrdb_psm3_download.csv?wkt=POINT(-94.43%2045.43)&names=2019&leap_day=false&interval=60&utc=false&full_name=Diamond+Williams&email=diamond.williams@engie.com&affiliation=ENGIE&mailing_list=true&reason=research&api_key=mtlpqLlBesMh2I0vsRvVfHAxRXhJcYihT8X7gVrL&attributes=ghi,dhi,dni,wind_speed,air_temperature,solar_zenith_angle\n",
      "http://developer.nrel.gov/api/solar/nsrdb_psm3_download.csv?wkt=POINT(-74.21%2040.08)&names=2019&leap_day=false&interval=60&utc=false&full_name=Diamond+Williams&email=diamond.williams@engie.com&affiliation=ENGIE&mailing_list=true&reason=research&api_key=mtlpqLlBesMh2I0vsRvVfHAxRXhJcYihT8X7gVrL&attributes=ghi,dhi,dni,wind_speed,air_temperature,solar_zenith_angle\n",
      "http://developer.nrel.gov/api/solar/nsrdb_psm3_download.csv?wkt=POINT(-82.6%2039.71)&names=2019&leap_day=false&interval=60&utc=false&full_name=Diamond+Williams&email=diamond.williams@engie.com&affiliation=ENGIE&mailing_list=true&reason=research&api_key=mtlpqLlBesMh2I0vsRvVfHAxRXhJcYihT8X7gVrL&attributes=ghi,dhi,dni,wind_speed,air_temperature,solar_zenith_angle\n",
      "http://developer.nrel.gov/api/solar/nsrdb_psm3_download.csv?wkt=POINT(-118.15%2034.69)&names=2019&leap_day=false&interval=60&utc=false&full_name=Diamond+Williams&email=diamond.williams@engie.com&affiliation=ENGIE&mailing_list=true&reason=research&api_key=mtlpqLlBesMh2I0vsRvVfHAxRXhJcYihT8X7gVrL&attributes=ghi,dhi,dni,wind_speed,air_temperature,solar_zenith_angle\n",
      "http://developer.nrel.gov/api/solar/nsrdb_psm3_download.csv?wkt=POINT(-118.15%2034.69)&names=2019&leap_day=false&interval=60&utc=false&full_name=Diamond+Williams&email=diamond.williams@engie.com&affiliation=ENGIE&mailing_list=true&reason=research&api_key=mtlpqLlBesMh2I0vsRvVfHAxRXhJcYihT8X7gVrL&attributes=ghi,dhi,dni,wind_speed,air_temperature,solar_zenith_angle\n",
      "http://developer.nrel.gov/api/solar/nsrdb_psm3_download.csv?wkt=POINT(-99.76%2029.73)&names=2019&leap_day=false&interval=60&utc=false&full_name=Diamond+Williams&email=diamond.williams@engie.com&affiliation=ENGIE&mailing_list=true&reason=research&api_key=mtlpqLlBesMh2I0vsRvVfHAxRXhJcYihT8X7gVrL&attributes=ghi,dhi,dni,wind_speed,air_temperature,solar_zenith_angle\n",
      "http://developer.nrel.gov/api/solar/nsrdb_psm3_download.csv?wkt=POINT(-75.14%2038.77)&names=2019&leap_day=false&interval=60&utc=false&full_name=Diamond+Williams&email=diamond.williams@engie.com&affiliation=ENGIE&mailing_list=true&reason=research&api_key=mtlpqLlBesMh2I0vsRvVfHAxRXhJcYihT8X7gVrL&attributes=ghi,dhi,dni,wind_speed,air_temperature,solar_zenith_angle\n",
      "http://developer.nrel.gov/api/solar/nsrdb_psm3_download.csv?wkt=POINT(-90.54%2043.29)&names=2019&leap_day=false&interval=60&utc=false&full_name=Diamond+Williams&email=diamond.williams@engie.com&affiliation=ENGIE&mailing_list=true&reason=research&api_key=mtlpqLlBesMh2I0vsRvVfHAxRXhJcYihT8X7gVrL&attributes=ghi,dhi,dni,wind_speed,air_temperature,solar_zenith_angle\n",
      "http://developer.nrel.gov/api/solar/nsrdb_psm3_download.csv?wkt=POINT(-90.54%2043.29)&names=2019&leap_day=false&interval=60&utc=false&full_name=Diamond+Williams&email=diamond.williams@engie.com&affiliation=ENGIE&mailing_list=true&reason=research&api_key=mtlpqLlBesMh2I0vsRvVfHAxRXhJcYihT8X7gVrL&attributes=ghi,dhi,dni,wind_speed,air_temperature,solar_zenith_angle\n",
      "http://developer.nrel.gov/api/solar/nsrdb_psm3_download.csv?wkt=POINT(-84.41%2039.4)&names=2019&leap_day=false&interval=60&utc=false&full_name=Diamond+Williams&email=diamond.williams@engie.com&affiliation=ENGIE&mailing_list=true&reason=research&api_key=mtlpqLlBesMh2I0vsRvVfHAxRXhJcYihT8X7gVrL&attributes=ghi,dhi,dni,wind_speed,air_temperature,solar_zenith_angle\n",
      "http://developer.nrel.gov/api/solar/nsrdb_psm3_download.csv?wkt=POINT(-84.11%2040.74)&names=2019&leap_day=false&interval=60&utc=false&full_name=Diamond+Williams&email=diamond.williams@engie.com&affiliation=ENGIE&mailing_list=true&reason=research&api_key=mtlpqLlBesMh2I0vsRvVfHAxRXhJcYihT8X7gVrL&attributes=ghi,dhi,dni,wind_speed,air_temperature,solar_zenith_angle\n",
      "http://developer.nrel.gov/api/solar/nsrdb_psm3_download.csv?wkt=POINT(-84.11%2040.74)&names=2019&leap_day=false&interval=60&utc=false&full_name=Diamond+Williams&email=diamond.williams@engie.com&affiliation=ENGIE&mailing_list=true&reason=research&api_key=mtlpqLlBesMh2I0vsRvVfHAxRXhJcYihT8X7gVrL&attributes=ghi,dhi,dni,wind_speed,air_temperature,solar_zenith_angle\n",
      "http://developer.nrel.gov/api/solar/nsrdb_psm3_download.csv?wkt=POINT(-84.11%2040.74)&names=2019&leap_day=false&interval=60&utc=false&full_name=Diamond+Williams&email=diamond.williams@engie.com&affiliation=ENGIE&mailing_list=true&reason=research&api_key=mtlpqLlBesMh2I0vsRvVfHAxRXhJcYihT8X7gVrL&attributes=ghi,dhi,dni,wind_speed,air_temperature,solar_zenith_angle\n",
      "http://developer.nrel.gov/api/solar/nsrdb_psm3_download.csv?wkt=POINT(-71.51%2042.54)&names=2019&leap_day=false&interval=60&utc=false&full_name=Diamond+Williams&email=diamond.williams@engie.com&affiliation=ENGIE&mailing_list=true&reason=research&api_key=mtlpqLlBesMh2I0vsRvVfHAxRXhJcYihT8X7gVrL&attributes=ghi,dhi,dni,wind_speed,air_temperature,solar_zenith_angle\n",
      "http://developer.nrel.gov/api/solar/nsrdb_psm3_download.csv?wkt=POINT(-98.34%2029.57)&names=2019&leap_day=false&interval=60&utc=false&full_name=Diamond+Williams&email=diamond.williams@engie.com&affiliation=ENGIE&mailing_list=true&reason=research&api_key=mtlpqLlBesMh2I0vsRvVfHAxRXhJcYihT8X7gVrL&attributes=ghi,dhi,dni,wind_speed,air_temperature,solar_zenith_angle\n"
     ]
    },
    {
     "name": "stdout",
     "output_type": "stream",
     "text": [
      "http://developer.nrel.gov/api/solar/nsrdb_psm3_download.csv?wkt=POINT(-87.6%2041.76)&names=2019&leap_day=false&interval=60&utc=false&full_name=Diamond+Williams&email=diamond.williams@engie.com&affiliation=ENGIE&mailing_list=true&reason=research&api_key=mtlpqLlBesMh2I0vsRvVfHAxRXhJcYihT8X7gVrL&attributes=ghi,dhi,dni,wind_speed,air_temperature,solar_zenith_angle\n",
      "http://developer.nrel.gov/api/solar/nsrdb_psm3_download.csv?wkt=POINT(-88.01%2041.88)&names=2019&leap_day=false&interval=60&utc=false&full_name=Diamond+Williams&email=diamond.williams@engie.com&affiliation=ENGIE&mailing_list=true&reason=research&api_key=mtlpqLlBesMh2I0vsRvVfHAxRXhJcYihT8X7gVrL&attributes=ghi,dhi,dni,wind_speed,air_temperature,solar_zenith_angle\n",
      "http://developer.nrel.gov/api/solar/nsrdb_psm3_download.csv?wkt=POINT(-84.2638%2039.2689)&names=2019&leap_day=false&interval=60&utc=false&full_name=Diamond+Williams&email=diamond.williams@engie.com&affiliation=ENGIE&mailing_list=true&reason=research&api_key=mtlpqLlBesMh2I0vsRvVfHAxRXhJcYihT8X7gVrL&attributes=ghi,dhi,dni,wind_speed,air_temperature,solar_zenith_angle\n",
      "http://developer.nrel.gov/api/solar/nsrdb_psm3_download.csv?wkt=POINT(-91.33%2040.63)&names=2019&leap_day=false&interval=60&utc=false&full_name=Diamond+Williams&email=diamond.williams@engie.com&affiliation=ENGIE&mailing_list=true&reason=research&api_key=mtlpqLlBesMh2I0vsRvVfHAxRXhJcYihT8X7gVrL&attributes=ghi,dhi,dni,wind_speed,air_temperature,solar_zenith_angle\n",
      "http://developer.nrel.gov/api/solar/nsrdb_psm3_download.csv?wkt=POINT(-73.060788%2044.368236)&names=2019&leap_day=false&interval=60&utc=false&full_name=Diamond+Williams&email=diamond.williams@engie.com&affiliation=ENGIE&mailing_list=true&reason=research&api_key=mtlpqLlBesMh2I0vsRvVfHAxRXhJcYihT8X7gVrL&attributes=ghi,dhi,dni,wind_speed,air_temperature,solar_zenith_angle\n",
      "http://developer.nrel.gov/api/solar/nsrdb_psm3_download.csv?wkt=POINT(-84.2208%2039.3151)&names=2019&leap_day=false&interval=60&utc=false&full_name=Diamond+Williams&email=diamond.williams@engie.com&affiliation=ENGIE&mailing_list=true&reason=research&api_key=mtlpqLlBesMh2I0vsRvVfHAxRXhJcYihT8X7gVrL&attributes=ghi,dhi,dni,wind_speed,air_temperature,solar_zenith_angle\n",
      "http://developer.nrel.gov/api/solar/nsrdb_psm3_download.csv?wkt=POINT(-82.5154%2040.7584)&names=2019&leap_day=false&interval=60&utc=false&full_name=Diamond+Williams&email=diamond.williams@engie.com&affiliation=ENGIE&mailing_list=true&reason=research&api_key=mtlpqLlBesMh2I0vsRvVfHAxRXhJcYihT8X7gVrL&attributes=ghi,dhi,dni,wind_speed,air_temperature,solar_zenith_angle\n",
      "http://developer.nrel.gov/api/solar/nsrdb_psm3_download.csv?wkt=POINT(-82.5154%2040.7584)&names=2019&leap_day=false&interval=60&utc=false&full_name=Diamond+Williams&email=diamond.williams@engie.com&affiliation=ENGIE&mailing_list=true&reason=research&api_key=mtlpqLlBesMh2I0vsRvVfHAxRXhJcYihT8X7gVrL&attributes=ghi,dhi,dni,wind_speed,air_temperature,solar_zenith_angle\n",
      "http://developer.nrel.gov/api/solar/nsrdb_psm3_download.csv?wkt=POINT(-121.2161%2037.7974)&names=2019&leap_day=false&interval=60&utc=false&full_name=Diamond+Williams&email=diamond.williams@engie.com&affiliation=ENGIE&mailing_list=true&reason=research&api_key=mtlpqLlBesMh2I0vsRvVfHAxRXhJcYihT8X7gVrL&attributes=ghi,dhi,dni,wind_speed,air_temperature,solar_zenith_angle\n",
      "http://developer.nrel.gov/api/solar/nsrdb_psm3_download.csv?wkt=POINT(-71.5523%2042.3459)&names=2019&leap_day=false&interval=60&utc=false&full_name=Diamond+Williams&email=diamond.williams@engie.com&affiliation=ENGIE&mailing_list=true&reason=research&api_key=mtlpqLlBesMh2I0vsRvVfHAxRXhJcYihT8X7gVrL&attributes=ghi,dhi,dni,wind_speed,air_temperature,solar_zenith_angle\n",
      "http://developer.nrel.gov/api/solar/nsrdb_psm3_download.csv?wkt=POINT(-88.71%2041.33)&names=2019&leap_day=false&interval=60&utc=false&full_name=Diamond+Williams&email=diamond.williams@engie.com&affiliation=ENGIE&mailing_list=true&reason=research&api_key=mtlpqLlBesMh2I0vsRvVfHAxRXhJcYihT8X7gVrL&attributes=ghi,dhi,dni,wind_speed,air_temperature,solar_zenith_angle\n",
      "http://developer.nrel.gov/api/solar/nsrdb_psm3_download.csv?wkt=POINT(-92.8777%2044.6832)&names=2019&leap_day=false&interval=60&utc=false&full_name=Diamond+Williams&email=diamond.williams@engie.com&affiliation=ENGIE&mailing_list=true&reason=research&api_key=mtlpqLlBesMh2I0vsRvVfHAxRXhJcYihT8X7gVrL&attributes=ghi,dhi,dni,wind_speed,air_temperature,solar_zenith_angle\n",
      "http://developer.nrel.gov/api/solar/nsrdb_psm3_download.csv?wkt=POINT(-84.3099%2039.3601)&names=2019&leap_day=false&interval=60&utc=false&full_name=Diamond+Williams&email=diamond.williams@engie.com&affiliation=ENGIE&mailing_list=true&reason=research&api_key=mtlpqLlBesMh2I0vsRvVfHAxRXhJcYihT8X7gVrL&attributes=ghi,dhi,dni,wind_speed,air_temperature,solar_zenith_angle\n",
      "http://developer.nrel.gov/api/solar/nsrdb_psm3_download.csv?wkt=POINT(-74.7277%2039.4523)&names=2019&leap_day=false&interval=60&utc=false&full_name=Diamond+Williams&email=diamond.williams@engie.com&affiliation=ENGIE&mailing_list=true&reason=research&api_key=mtlpqLlBesMh2I0vsRvVfHAxRXhJcYihT8X7gVrL&attributes=ghi,dhi,dni,wind_speed,air_temperature,solar_zenith_angle\n",
      "http://developer.nrel.gov/api/solar/nsrdb_psm3_download.csv?wkt=POINT(-90.34%2045.14)&names=2019&leap_day=false&interval=60&utc=false&full_name=Diamond+Williams&email=diamond.williams@engie.com&affiliation=ENGIE&mailing_list=true&reason=research&api_key=mtlpqLlBesMh2I0vsRvVfHAxRXhJcYihT8X7gVrL&attributes=ghi,dhi,dni,wind_speed,air_temperature,solar_zenith_angle\n",
      "http://developer.nrel.gov/api/solar/nsrdb_psm3_download.csv?wkt=POINT(-117.1853%2033.6971)&names=2019&leap_day=false&interval=60&utc=false&full_name=Diamond+Williams&email=diamond.williams@engie.com&affiliation=ENGIE&mailing_list=true&reason=research&api_key=mtlpqLlBesMh2I0vsRvVfHAxRXhJcYihT8X7gVrL&attributes=ghi,dhi,dni,wind_speed,air_temperature,solar_zenith_angle\n",
      "http://developer.nrel.gov/api/solar/nsrdb_psm3_download.csv?wkt=POINT(-120.483%2037.3022)&names=2019&leap_day=false&interval=60&utc=false&full_name=Diamond+Williams&email=diamond.williams@engie.com&affiliation=ENGIE&mailing_list=true&reason=research&api_key=mtlpqLlBesMh2I0vsRvVfHAxRXhJcYihT8X7gVrL&attributes=ghi,dhi,dni,wind_speed,air_temperature,solar_zenith_angle\n",
      "http://developer.nrel.gov/api/solar/nsrdb_psm3_download.csv?wkt=POINT(-94.6939%2039.0236)&names=2019&leap_day=false&interval=60&utc=false&full_name=Diamond+Williams&email=diamond.williams@engie.com&affiliation=ENGIE&mailing_list=true&reason=research&api_key=mtlpqLlBesMh2I0vsRvVfHAxRXhJcYihT8X7gVrL&attributes=ghi,dhi,dni,wind_speed,air_temperature,solar_zenith_angle\n",
      "http://developer.nrel.gov/api/solar/nsrdb_psm3_download.csv?wkt=POINT(-93.67%2045.21)&names=2019&leap_day=false&interval=60&utc=false&full_name=Diamond+Williams&email=diamond.williams@engie.com&affiliation=ENGIE&mailing_list=true&reason=research&api_key=mtlpqLlBesMh2I0vsRvVfHAxRXhJcYihT8X7gVrL&attributes=ghi,dhi,dni,wind_speed,air_temperature,solar_zenith_angle\n",
      "http://developer.nrel.gov/api/solar/nsrdb_psm3_download.csv?wkt=POINT(-93.67%2045.21)&names=2019&leap_day=false&interval=60&utc=false&full_name=Diamond+Williams&email=diamond.williams@engie.com&affiliation=ENGIE&mailing_list=true&reason=research&api_key=mtlpqLlBesMh2I0vsRvVfHAxRXhJcYihT8X7gVrL&attributes=ghi,dhi,dni,wind_speed,air_temperature,solar_zenith_angle\n",
      "http://developer.nrel.gov/api/solar/nsrdb_psm3_download.csv?wkt=POINT(-93.67%2045.21)&names=2019&leap_day=false&interval=60&utc=false&full_name=Diamond+Williams&email=diamond.williams@engie.com&affiliation=ENGIE&mailing_list=true&reason=research&api_key=mtlpqLlBesMh2I0vsRvVfHAxRXhJcYihT8X7gVrL&attributes=ghi,dhi,dni,wind_speed,air_temperature,solar_zenith_angle\n",
      "http://developer.nrel.gov/api/solar/nsrdb_psm3_download.csv?wkt=POINT(-93.67%2045.21)&names=2019&leap_day=false&interval=60&utc=false&full_name=Diamond+Williams&email=diamond.williams@engie.com&affiliation=ENGIE&mailing_list=true&reason=research&api_key=mtlpqLlBesMh2I0vsRvVfHAxRXhJcYihT8X7gVrL&attributes=ghi,dhi,dni,wind_speed,air_temperature,solar_zenith_angle\n",
      "http://developer.nrel.gov/api/solar/nsrdb_psm3_download.csv?wkt=POINT(-84.3983%2039.5151)&names=2019&leap_day=false&interval=60&utc=false&full_name=Diamond+Williams&email=diamond.williams@engie.com&affiliation=ENGIE&mailing_list=true&reason=research&api_key=mtlpqLlBesMh2I0vsRvVfHAxRXhJcYihT8X7gVrL&attributes=ghi,dhi,dni,wind_speed,air_temperature,solar_zenith_angle\n"
     ]
    },
    {
     "name": "stdout",
     "output_type": "stream",
     "text": [
      "http://developer.nrel.gov/api/solar/nsrdb_psm3_download.csv?wkt=POINT(-75.7163%2039.4496)&names=2019&leap_day=false&interval=60&utc=false&full_name=Diamond+Williams&email=diamond.williams@engie.com&affiliation=ENGIE&mailing_list=true&reason=research&api_key=mtlpqLlBesMh2I0vsRvVfHAxRXhJcYihT8X7gVrL&attributes=ghi,dhi,dni,wind_speed,air_temperature,solar_zenith_angle\n",
      "http://developer.nrel.gov/api/solar/nsrdb_psm3_download.csv?wkt=POINT(-84.2944%2039.1753)&names=2019&leap_day=false&interval=60&utc=false&full_name=Diamond+Williams&email=diamond.williams@engie.com&affiliation=ENGIE&mailing_list=true&reason=research&api_key=mtlpqLlBesMh2I0vsRvVfHAxRXhJcYihT8X7gVrL&attributes=ghi,dhi,dni,wind_speed,air_temperature,solar_zenith_angle\n",
      "http://developer.nrel.gov/api/solar/nsrdb_psm3_download.csv?wkt=POINT(-121.8996%2037.4323)&names=2019&leap_day=false&interval=60&utc=false&full_name=Diamond+Williams&email=diamond.williams@engie.com&affiliation=ENGIE&mailing_list=true&reason=research&api_key=mtlpqLlBesMh2I0vsRvVfHAxRXhJcYihT8X7gVrL&attributes=ghi,dhi,dni,wind_speed,air_temperature,solar_zenith_angle\n",
      "http://developer.nrel.gov/api/solar/nsrdb_psm3_download.csv?wkt=POINT(-90.52%2041.51)&names=2019&leap_day=false&interval=60&utc=false&full_name=Diamond+Williams&email=diamond.williams@engie.com&affiliation=ENGIE&mailing_list=true&reason=research&api_key=mtlpqLlBesMh2I0vsRvVfHAxRXhJcYihT8X7gVrL&attributes=ghi,dhi,dni,wind_speed,air_temperature,solar_zenith_angle\n",
      "http://developer.nrel.gov/api/solar/nsrdb_psm3_download.csv?wkt=POINT(-73.2073%2041.3326)&names=2019&leap_day=false&interval=60&utc=false&full_name=Diamond+Williams&email=diamond.williams@engie.com&affiliation=ENGIE&mailing_list=true&reason=research&api_key=mtlpqLlBesMh2I0vsRvVfHAxRXhJcYihT8X7gVrL&attributes=ghi,dhi,dni,wind_speed,air_temperature,solar_zenith_angle\n",
      "http://developer.nrel.gov/api/solar/nsrdb_psm3_download.csv?wkt=POINT(-84.3805%2039.0868)&names=2019&leap_day=false&interval=60&utc=false&full_name=Diamond+Williams&email=diamond.williams@engie.com&affiliation=ENGIE&mailing_list=true&reason=research&api_key=mtlpqLlBesMh2I0vsRvVfHAxRXhJcYihT8X7gVrL&attributes=ghi,dhi,dni,wind_speed,air_temperature,solar_zenith_angle\n",
      "http://developer.nrel.gov/api/solar/nsrdb_psm3_download.csv?wkt=POINT(-90.86%2042.97)&names=2019&leap_day=false&interval=60&utc=false&full_name=Diamond+Williams&email=diamond.williams@engie.com&affiliation=ENGIE&mailing_list=true&reason=research&api_key=mtlpqLlBesMh2I0vsRvVfHAxRXhJcYihT8X7gVrL&attributes=ghi,dhi,dni,wind_speed,air_temperature,solar_zenith_angle\n",
      "http://developer.nrel.gov/api/solar/nsrdb_psm3_download.csv?wkt=POINT(-90.859%2042.9672)&names=2019&leap_day=false&interval=60&utc=false&full_name=Diamond+Williams&email=diamond.williams@engie.com&affiliation=ENGIE&mailing_list=true&reason=research&api_key=mtlpqLlBesMh2I0vsRvVfHAxRXhJcYihT8X7gVrL&attributes=ghi,dhi,dni,wind_speed,air_temperature,solar_zenith_angle\n",
      "http://developer.nrel.gov/api/solar/nsrdb_psm3_download.csv?wkt=POINT(-72.65%2042.24)&names=2019&leap_day=false&interval=60&utc=false&full_name=Diamond+Williams&email=diamond.williams@engie.com&affiliation=ENGIE&mailing_list=true&reason=research&api_key=mtlpqLlBesMh2I0vsRvVfHAxRXhJcYihT8X7gVrL&attributes=ghi,dhi,dni,wind_speed,air_temperature,solar_zenith_angle\n",
      "http://developer.nrel.gov/api/solar/nsrdb_psm3_download.csv?wkt=POINT(-122.2654%2038.5025)&names=2019&leap_day=false&interval=60&utc=false&full_name=Diamond+Williams&email=diamond.williams@engie.com&affiliation=ENGIE&mailing_list=true&reason=research&api_key=mtlpqLlBesMh2I0vsRvVfHAxRXhJcYihT8X7gVrL&attributes=ghi,dhi,dni,wind_speed,air_temperature,solar_zenith_angle\n",
      "http://developer.nrel.gov/api/solar/nsrdb_psm3_download.csv?wkt=POINT(-88.15%2041.75)&names=2019&leap_day=false&interval=60&utc=false&full_name=Diamond+Williams&email=diamond.williams@engie.com&affiliation=ENGIE&mailing_list=true&reason=research&api_key=mtlpqLlBesMh2I0vsRvVfHAxRXhJcYihT8X7gVrL&attributes=ghi,dhi,dni,wind_speed,air_temperature,solar_zenith_angle\n",
      "http://developer.nrel.gov/api/solar/nsrdb_psm3_download.csv?wkt=POINT(-97.7286%2029.525)&names=2019&leap_day=false&interval=60&utc=false&full_name=Diamond+Williams&email=diamond.williams@engie.com&affiliation=ENGIE&mailing_list=true&reason=research&api_key=mtlpqLlBesMh2I0vsRvVfHAxRXhJcYihT8X7gVrL&attributes=ghi,dhi,dni,wind_speed,air_temperature,solar_zenith_angle\n",
      "http://developer.nrel.gov/api/solar/nsrdb_psm3_download.csv?wkt=POINT(-71.3468%2042.2775)&names=2019&leap_day=false&interval=60&utc=false&full_name=Diamond+Williams&email=diamond.williams@engie.com&affiliation=ENGIE&mailing_list=true&reason=research&api_key=mtlpqLlBesMh2I0vsRvVfHAxRXhJcYihT8X7gVrL&attributes=ghi,dhi,dni,wind_speed,air_temperature,solar_zenith_angle\n",
      "http://developer.nrel.gov/api/solar/nsrdb_psm3_download.csv?wkt=POINT(-177.0992%2032.6781)&names=2019&leap_day=false&interval=60&utc=false&full_name=Diamond+Williams&email=diamond.williams@engie.com&affiliation=ENGIE&mailing_list=true&reason=research&api_key=mtlpqLlBesMh2I0vsRvVfHAxRXhJcYihT8X7gVrL&attributes=ghi,dhi,dni,wind_speed,air_temperature,solar_zenith_angle\n",
      "http://developer.nrel.gov/api/solar/nsrdb_psm3_download.csv?wkt=POINT(-92.98%2043.67)&names=2019&leap_day=false&interval=60&utc=false&full_name=Diamond+Williams&email=diamond.williams@engie.com&affiliation=ENGIE&mailing_list=true&reason=research&api_key=mtlpqLlBesMh2I0vsRvVfHAxRXhJcYihT8X7gVrL&attributes=ghi,dhi,dni,wind_speed,air_temperature,solar_zenith_angle\n",
      "http://developer.nrel.gov/api/solar/nsrdb_psm3_download.csv?wkt=POINT(-92.98%2043.67)&names=2019&leap_day=false&interval=60&utc=false&full_name=Diamond+Williams&email=diamond.williams@engie.com&affiliation=ENGIE&mailing_list=true&reason=research&api_key=mtlpqLlBesMh2I0vsRvVfHAxRXhJcYihT8X7gVrL&attributes=ghi,dhi,dni,wind_speed,air_temperature,solar_zenith_angle\n",
      "http://developer.nrel.gov/api/solar/nsrdb_psm3_download.csv?wkt=POINT(-92.98%2043.67)&names=2019&leap_day=false&interval=60&utc=false&full_name=Diamond+Williams&email=diamond.williams@engie.com&affiliation=ENGIE&mailing_list=true&reason=research&api_key=mtlpqLlBesMh2I0vsRvVfHAxRXhJcYihT8X7gVrL&attributes=ghi,dhi,dni,wind_speed,air_temperature,solar_zenith_angle\n",
      "http://developer.nrel.gov/api/solar/nsrdb_psm3_download.csv?wkt=POINT(-92.98%2043.67)&names=2019&leap_day=false&interval=60&utc=false&full_name=Diamond+Williams&email=diamond.williams@engie.com&affiliation=ENGIE&mailing_list=true&reason=research&api_key=mtlpqLlBesMh2I0vsRvVfHAxRXhJcYihT8X7gVrL&attributes=ghi,dhi,dni,wind_speed,air_temperature,solar_zenith_angle\n",
      "http://developer.nrel.gov/api/solar/nsrdb_psm3_download.csv?wkt=POINT(-92.98%2043.67)&names=2019&leap_day=false&interval=60&utc=false&full_name=Diamond+Williams&email=diamond.williams@engie.com&affiliation=ENGIE&mailing_list=true&reason=research&api_key=mtlpqLlBesMh2I0vsRvVfHAxRXhJcYihT8X7gVrL&attributes=ghi,dhi,dni,wind_speed,air_temperature,solar_zenith_angle\n",
      "http://developer.nrel.gov/api/solar/nsrdb_psm3_download.csv?wkt=POINT(-91.56%2045.2)&names=2019&leap_day=false&interval=60&utc=false&full_name=Diamond+Williams&email=diamond.williams@engie.com&affiliation=ENGIE&mailing_list=true&reason=research&api_key=mtlpqLlBesMh2I0vsRvVfHAxRXhJcYihT8X7gVrL&attributes=ghi,dhi,dni,wind_speed,air_temperature,solar_zenith_angle\n",
      "http://developer.nrel.gov/api/solar/nsrdb_psm3_download.csv?wkt=POINT(-91.56%2045.2)&names=2019&leap_day=false&interval=60&utc=false&full_name=Diamond+Williams&email=diamond.williams@engie.com&affiliation=ENGIE&mailing_list=true&reason=research&api_key=mtlpqLlBesMh2I0vsRvVfHAxRXhJcYihT8X7gVrL&attributes=ghi,dhi,dni,wind_speed,air_temperature,solar_zenith_angle\n",
      "http://developer.nrel.gov/api/solar/nsrdb_psm3_download.csv?wkt=POINT(-70.9342%2041.6362)&names=2019&leap_day=false&interval=60&utc=false&full_name=Diamond+Williams&email=diamond.williams@engie.com&affiliation=ENGIE&mailing_list=true&reason=research&api_key=mtlpqLlBesMh2I0vsRvVfHAxRXhJcYihT8X7gVrL&attributes=ghi,dhi,dni,wind_speed,air_temperature,solar_zenith_angle\n",
      "http://developer.nrel.gov/api/solar/nsrdb_psm3_download.csv?wkt=POINT(-73.2073%2041.3326)&names=2019&leap_day=false&interval=60&utc=false&full_name=Diamond+Williams&email=diamond.williams@engie.com&affiliation=ENGIE&mailing_list=true&reason=research&api_key=mtlpqLlBesMh2I0vsRvVfHAxRXhJcYihT8X7gVrL&attributes=ghi,dhi,dni,wind_speed,air_temperature,solar_zenith_angle\n"
     ]
    },
    {
     "name": "stdout",
     "output_type": "stream",
     "text": [
      "http://developer.nrel.gov/api/solar/nsrdb_psm3_download.csv?wkt=POINT(-115.1398%2036.1699)&names=2019&leap_day=false&interval=60&utc=false&full_name=Diamond+Williams&email=diamond.williams@engie.com&affiliation=ENGIE&mailing_list=true&reason=research&api_key=mtlpqLlBesMh2I0vsRvVfHAxRXhJcYihT8X7gVrL&attributes=ghi,dhi,dni,wind_speed,air_temperature,solar_zenith_angle\n",
      "http://developer.nrel.gov/api/solar/nsrdb_psm3_download.csv?wkt=POINT(-84.4543%2039.1645)&names=2019&leap_day=false&interval=60&utc=false&full_name=Diamond+Williams&email=diamond.williams@engie.com&affiliation=ENGIE&mailing_list=true&reason=research&api_key=mtlpqLlBesMh2I0vsRvVfHAxRXhJcYihT8X7gVrL&attributes=ghi,dhi,dni,wind_speed,air_temperature,solar_zenith_angle\n",
      "http://developer.nrel.gov/api/solar/nsrdb_psm3_download.csv?wkt=POINT(-117.3795%2033.1959)&names=2019&leap_day=false&interval=60&utc=false&full_name=Diamond+Williams&email=diamond.williams@engie.com&affiliation=ENGIE&mailing_list=true&reason=research&api_key=mtlpqLlBesMh2I0vsRvVfHAxRXhJcYihT8X7gVrL&attributes=ghi,dhi,dni,wind_speed,air_temperature,solar_zenith_angle\n",
      "http://developer.nrel.gov/api/solar/nsrdb_psm3_download.csv?wkt=POINT(-117.6509%2034.0633)&names=2019&leap_day=false&interval=60&utc=false&full_name=Diamond+Williams&email=diamond.williams@engie.com&affiliation=ENGIE&mailing_list=true&reason=research&api_key=mtlpqLlBesMh2I0vsRvVfHAxRXhJcYihT8X7gVrL&attributes=ghi,dhi,dni,wind_speed,air_temperature,solar_zenith_angle\n",
      "http://developer.nrel.gov/api/solar/nsrdb_psm3_download.csv?wkt=POINT(-73.0265%2041.2786)&names=2019&leap_day=false&interval=60&utc=false&full_name=Diamond+Williams&email=diamond.williams@engie.com&affiliation=ENGIE&mailing_list=true&reason=research&api_key=mtlpqLlBesMh2I0vsRvVfHAxRXhJcYihT8X7gVrL&attributes=ghi,dhi,dni,wind_speed,air_temperature,solar_zenith_angle\n",
      "http://developer.nrel.gov/api/solar/nsrdb_psm3_download.csv?wkt=POINT(-117.8531%2033.7879)&names=2019&leap_day=false&interval=60&utc=false&full_name=Diamond+Williams&email=diamond.williams@engie.com&affiliation=ENGIE&mailing_list=true&reason=research&api_key=mtlpqLlBesMh2I0vsRvVfHAxRXhJcYihT8X7gVrL&attributes=ghi,dhi,dni,wind_speed,air_temperature,solar_zenith_angle\n",
      "http://developer.nrel.gov/api/solar/nsrdb_psm3_download.csv?wkt=POINT(-84.7452%2039.507)&names=2019&leap_day=false&interval=60&utc=false&full_name=Diamond+Williams&email=diamond.williams@engie.com&affiliation=ENGIE&mailing_list=true&reason=research&api_key=mtlpqLlBesMh2I0vsRvVfHAxRXhJcYihT8X7gVrL&attributes=ghi,dhi,dni,wind_speed,air_temperature,solar_zenith_angle\n",
      "http://developer.nrel.gov/api/solar/nsrdb_psm3_download.csv?wkt=POINT(-119.1771%2034.1975)&names=2019&leap_day=false&interval=60&utc=false&full_name=Diamond+Williams&email=diamond.williams@engie.com&affiliation=ENGIE&mailing_list=true&reason=research&api_key=mtlpqLlBesMh2I0vsRvVfHAxRXhJcYihT8X7gVrL&attributes=ghi,dhi,dni,wind_speed,air_temperature,solar_zenith_angle\n",
      "http://developer.nrel.gov/api/solar/nsrdb_psm3_download.csv?wkt=POINT(-119.1771%2034.1975)&names=2019&leap_day=false&interval=60&utc=false&full_name=Diamond+Williams&email=diamond.williams@engie.com&affiliation=ENGIE&mailing_list=true&reason=research&api_key=mtlpqLlBesMh2I0vsRvVfHAxRXhJcYihT8X7gVrL&attributes=ghi,dhi,dni,wind_speed,air_temperature,solar_zenith_angle\n",
      "http://developer.nrel.gov/api/solar/nsrdb_psm3_download.csv?wkt=POINT(-119.1771%2034.1975)&names=2019&leap_day=false&interval=60&utc=false&full_name=Diamond+Williams&email=diamond.williams@engie.com&affiliation=ENGIE&mailing_list=true&reason=research&api_key=mtlpqLlBesMh2I0vsRvVfHAxRXhJcYihT8X7gVrL&attributes=ghi,dhi,dni,wind_speed,air_temperature,solar_zenith_angle\n",
      "http://developer.nrel.gov/api/solar/nsrdb_psm3_download.csv?wkt=POINT(-119.18%2034.2)&names=2019&leap_day=false&interval=60&utc=false&full_name=Diamond+Williams&email=diamond.williams@engie.com&affiliation=ENGIE&mailing_list=true&reason=research&api_key=mtlpqLlBesMh2I0vsRvVfHAxRXhJcYihT8X7gVrL&attributes=ghi,dhi,dni,wind_speed,air_temperature,solar_zenith_angle\n",
      "http://developer.nrel.gov/api/solar/nsrdb_psm3_download.csv?wkt=POINT(-119.18%2034.2)&names=2019&leap_day=false&interval=60&utc=false&full_name=Diamond+Williams&email=diamond.williams@engie.com&affiliation=ENGIE&mailing_list=true&reason=research&api_key=mtlpqLlBesMh2I0vsRvVfHAxRXhJcYihT8X7gVrL&attributes=ghi,dhi,dni,wind_speed,air_temperature,solar_zenith_angle\n",
      "http://developer.nrel.gov/api/solar/nsrdb_psm3_download.csv?wkt=POINT(-116.5453%2033.8303)&names=2019&leap_day=false&interval=60&utc=false&full_name=Diamond+Williams&email=diamond.williams@engie.com&affiliation=ENGIE&mailing_list=true&reason=research&api_key=mtlpqLlBesMh2I0vsRvVfHAxRXhJcYihT8X7gVrL&attributes=ghi,dhi,dni,wind_speed,air_temperature,solar_zenith_angle\n",
      "http://developer.nrel.gov/api/solar/nsrdb_psm3_download.csv?wkt=POINT(-118.1165%2034.5794)&names=2019&leap_day=false&interval=60&utc=false&full_name=Diamond+Williams&email=diamond.williams@engie.com&affiliation=ENGIE&mailing_list=true&reason=research&api_key=mtlpqLlBesMh2I0vsRvVfHAxRXhJcYihT8X7gVrL&attributes=ghi,dhi,dni,wind_speed,air_temperature,solar_zenith_angle\n",
      "http://developer.nrel.gov/api/solar/nsrdb_psm3_download.csv?wkt=POINT(-120.6545%2035.6369)&names=2019&leap_day=false&interval=60&utc=false&full_name=Diamond+Williams&email=diamond.williams@engie.com&affiliation=ENGIE&mailing_list=true&reason=research&api_key=mtlpqLlBesMh2I0vsRvVfHAxRXhJcYihT8X7gVrL&attributes=ghi,dhi,dni,wind_speed,air_temperature,solar_zenith_angle\n",
      "http://developer.nrel.gov/api/solar/nsrdb_psm3_download.csv?wkt=POINT(-122.6367%2038.2324)&names=2019&leap_day=false&interval=60&utc=false&full_name=Diamond+Williams&email=diamond.williams@engie.com&affiliation=ENGIE&mailing_list=true&reason=research&api_key=mtlpqLlBesMh2I0vsRvVfHAxRXhJcYihT8X7gVrL&attributes=ghi,dhi,dni,wind_speed,air_temperature,solar_zenith_angle\n",
      "http://developer.nrel.gov/api/solar/nsrdb_psm3_download.csv?wkt=POINT(-122.6367%2038.2324)&names=2019&leap_day=false&interval=60&utc=false&full_name=Diamond+Williams&email=diamond.williams@engie.com&affiliation=ENGIE&mailing_list=true&reason=research&api_key=mtlpqLlBesMh2I0vsRvVfHAxRXhJcYihT8X7gVrL&attributes=ghi,dhi,dni,wind_speed,air_temperature,solar_zenith_angle\n",
      "http://developer.nrel.gov/api/solar/nsrdb_psm3_download.csv?wkt=POINT(-97.6223%2030.4548)&names=2019&leap_day=false&interval=60&utc=false&full_name=Diamond+Williams&email=diamond.williams@engie.com&affiliation=ENGIE&mailing_list=true&reason=research&api_key=mtlpqLlBesMh2I0vsRvVfHAxRXhJcYihT8X7gVrL&attributes=ghi,dhi,dni,wind_speed,air_temperature,solar_zenith_angle\n",
      "http://developer.nrel.gov/api/solar/nsrdb_psm3_download.csv?wkt=POINT(-112.074%2033.4484)&names=2019&leap_day=false&interval=60&utc=false&full_name=Diamond+Williams&email=diamond.williams@engie.com&affiliation=ENGIE&mailing_list=true&reason=research&api_key=mtlpqLlBesMh2I0vsRvVfHAxRXhJcYihT8X7gVrL&attributes=ghi,dhi,dni,wind_speed,air_temperature,solar_zenith_angle\n",
      "http://developer.nrel.gov/api/solar/nsrdb_psm3_download.csv?wkt=POINT(-120.7985%2038.7296)&names=2019&leap_day=false&interval=60&utc=false&full_name=Diamond+Williams&email=diamond.williams@engie.com&affiliation=ENGIE&mailing_list=true&reason=research&api_key=mtlpqLlBesMh2I0vsRvVfHAxRXhJcYihT8X7gVrL&attributes=ghi,dhi,dni,wind_speed,air_temperature,solar_zenith_angle\n",
      "http://developer.nrel.gov/api/solar/nsrdb_psm3_download.csv?wkt=POINT(-96.6989%2033.0198)&names=2019&leap_day=false&interval=60&utc=false&full_name=Diamond+Williams&email=diamond.williams@engie.com&affiliation=ENGIE&mailing_list=true&reason=research&api_key=mtlpqLlBesMh2I0vsRvVfHAxRXhJcYihT8X7gVrL&attributes=ghi,dhi,dni,wind_speed,air_temperature,solar_zenith_angle\n",
      "http://developer.nrel.gov/api/solar/nsrdb_psm3_download.csv?wkt=POINT(-120.8%2039.99)&names=2019&leap_day=false&interval=60&utc=false&full_name=Diamond+Williams&email=diamond.williams@engie.com&affiliation=ENGIE&mailing_list=true&reason=research&api_key=mtlpqLlBesMh2I0vsRvVfHAxRXhJcYihT8X7gVrL&attributes=ghi,dhi,dni,wind_speed,air_temperature,solar_zenith_angle\n",
      "http://developer.nrel.gov/api/solar/nsrdb_psm3_download.csv?wkt=POINT(-70.6673%2041.9584)&names=2019&leap_day=false&interval=60&utc=false&full_name=Diamond+Williams&email=diamond.williams@engie.com&affiliation=ENGIE&mailing_list=true&reason=research&api_key=mtlpqLlBesMh2I0vsRvVfHAxRXhJcYihT8X7gVrL&attributes=ghi,dhi,dni,wind_speed,air_temperature,solar_zenith_angle\n"
     ]
    },
    {
     "name": "stdout",
     "output_type": "stream",
     "text": [
      "http://developer.nrel.gov/api/solar/nsrdb_psm3_download.csv?wkt=POINT(-117.2467%2032.7)&names=2019&leap_day=false&interval=60&utc=false&full_name=Diamond+Williams&email=diamond.williams@engie.com&affiliation=ENGIE&mailing_list=true&reason=research&api_key=mtlpqLlBesMh2I0vsRvVfHAxRXhJcYihT8X7gVrL&attributes=ghi,dhi,dni,wind_speed,air_temperature,solar_zenith_angle\n",
      "http://developer.nrel.gov/api/solar/nsrdb_psm3_download.csv?wkt=POINT(-118.1937%2033.7701)&names=2019&leap_day=false&interval=60&utc=false&full_name=Diamond+Williams&email=diamond.williams@engie.com&affiliation=ENGIE&mailing_list=true&reason=research&api_key=mtlpqLlBesMh2I0vsRvVfHAxRXhJcYihT8X7gVrL&attributes=ghi,dhi,dni,wind_speed,air_temperature,solar_zenith_angle\n",
      "http://developer.nrel.gov/api/solar/nsrdb_psm3_download.csv?wkt=POINT(-118.1937%2033.7701)&names=2019&leap_day=false&interval=60&utc=false&full_name=Diamond+Williams&email=diamond.williams@engie.com&affiliation=ENGIE&mailing_list=true&reason=research&api_key=mtlpqLlBesMh2I0vsRvVfHAxRXhJcYihT8X7gVrL&attributes=ghi,dhi,dni,wind_speed,air_temperature,solar_zenith_angle\n",
      "http://developer.nrel.gov/api/solar/nsrdb_psm3_download.csv?wkt=POINT(-74.6672%2040.3573)&names=2019&leap_day=false&interval=60&utc=false&full_name=Diamond+Williams&email=diamond.williams@engie.com&affiliation=ENGIE&mailing_list=true&reason=research&api_key=mtlpqLlBesMh2I0vsRvVfHAxRXhJcYihT8X7gVrL&attributes=ghi,dhi,dni,wind_speed,air_temperature,solar_zenith_angle\n",
      "http://developer.nrel.gov/api/solar/nsrdb_psm3_download.csv?wkt=POINT(-117.5931%2034.1064)&names=2019&leap_day=false&interval=60&utc=false&full_name=Diamond+Williams&email=diamond.williams@engie.com&affiliation=ENGIE&mailing_list=true&reason=research&api_key=mtlpqLlBesMh2I0vsRvVfHAxRXhJcYihT8X7gVrL&attributes=ghi,dhi,dni,wind_speed,air_temperature,solar_zenith_angle\n",
      "http://developer.nrel.gov/api/solar/nsrdb_psm3_download.csv?wkt=POINT(-117.1825%2034.0556)&names=2019&leap_day=false&interval=60&utc=false&full_name=Diamond+Williams&email=diamond.williams@engie.com&affiliation=ENGIE&mailing_list=true&reason=research&api_key=mtlpqLlBesMh2I0vsRvVfHAxRXhJcYihT8X7gVrL&attributes=ghi,dhi,dni,wind_speed,air_temperature,solar_zenith_angle\n",
      "http://developer.nrel.gov/api/solar/nsrdb_psm3_download.csv?wkt=POINT(-82.1948%2036.0525)&names=2019&leap_day=false&interval=60&utc=false&full_name=Diamond+Williams&email=diamond.williams@engie.com&affiliation=ENGIE&mailing_list=true&reason=research&api_key=mtlpqLlBesMh2I0vsRvVfHAxRXhJcYihT8X7gVrL&attributes=ghi,dhi,dni,wind_speed,air_temperature,solar_zenith_angle\n",
      "http://developer.nrel.gov/api/solar/nsrdb_psm3_download.csv?wkt=POINT(-71.605866%2041.477268)&names=2019&leap_day=false&interval=60&utc=false&full_name=Diamond+Williams&email=diamond.williams@engie.com&affiliation=ENGIE&mailing_list=true&reason=research&api_key=mtlpqLlBesMh2I0vsRvVfHAxRXhJcYihT8X7gVrL&attributes=ghi,dhi,dni,wind_speed,air_temperature,solar_zenith_angle\n",
      "http://developer.nrel.gov/api/solar/nsrdb_psm3_download.csv?wkt=POINT(-71.518714%2041.556962)&names=2019&leap_day=false&interval=60&utc=false&full_name=Diamond+Williams&email=diamond.williams@engie.com&affiliation=ENGIE&mailing_list=true&reason=research&api_key=mtlpqLlBesMh2I0vsRvVfHAxRXhJcYihT8X7gVrL&attributes=ghi,dhi,dni,wind_speed,air_temperature,solar_zenith_angle\n",
      "http://developer.nrel.gov/api/solar/nsrdb_psm3_download.csv?wkt=POINT(-71.613939%2041.475067)&names=2019&leap_day=false&interval=60&utc=false&full_name=Diamond+Williams&email=diamond.williams@engie.com&affiliation=ENGIE&mailing_list=true&reason=research&api_key=mtlpqLlBesMh2I0vsRvVfHAxRXhJcYihT8X7gVrL&attributes=ghi,dhi,dni,wind_speed,air_temperature,solar_zenith_angle\n",
      "http://developer.nrel.gov/api/solar/nsrdb_psm3_download.csv?wkt=POINT(-71.744789%2041.481793)&names=2019&leap_day=false&interval=60&utc=false&full_name=Diamond+Williams&email=diamond.williams@engie.com&affiliation=ENGIE&mailing_list=true&reason=research&api_key=mtlpqLlBesMh2I0vsRvVfHAxRXhJcYihT8X7gVrL&attributes=ghi,dhi,dni,wind_speed,air_temperature,solar_zenith_angle\n",
      "http://developer.nrel.gov/api/solar/nsrdb_psm3_download.csv?wkt=POINT(-71.772138%2041.454135)&names=2019&leap_day=false&interval=60&utc=false&full_name=Diamond+Williams&email=diamond.williams@engie.com&affiliation=ENGIE&mailing_list=true&reason=research&api_key=mtlpqLlBesMh2I0vsRvVfHAxRXhJcYihT8X7gVrL&attributes=ghi,dhi,dni,wind_speed,air_temperature,solar_zenith_angle\n",
      "http://developer.nrel.gov/api/solar/nsrdb_psm3_download.csv?wkt=POINT(-71.7162%2041.5076)&names=2019&leap_day=false&interval=60&utc=false&full_name=Diamond+Williams&email=diamond.williams@engie.com&affiliation=ENGIE&mailing_list=true&reason=research&api_key=mtlpqLlBesMh2I0vsRvVfHAxRXhJcYihT8X7gVrL&attributes=ghi,dhi,dni,wind_speed,air_temperature,solar_zenith_angle\n",
      "http://developer.nrel.gov/api/solar/nsrdb_psm3_download.csv?wkt=POINT(-71.617431%2041.470194)&names=2019&leap_day=false&interval=60&utc=false&full_name=Diamond+Williams&email=diamond.williams@engie.com&affiliation=ENGIE&mailing_list=true&reason=research&api_key=mtlpqLlBesMh2I0vsRvVfHAxRXhJcYihT8X7gVrL&attributes=ghi,dhi,dni,wind_speed,air_temperature,solar_zenith_angle\n",
      "http://developer.nrel.gov/api/solar/nsrdb_psm3_download.csv?wkt=POINT(-71.699628%2041.464462)&names=2019&leap_day=false&interval=60&utc=false&full_name=Diamond+Williams&email=diamond.williams@engie.com&affiliation=ENGIE&mailing_list=true&reason=research&api_key=mtlpqLlBesMh2I0vsRvVfHAxRXhJcYihT8X7gVrL&attributes=ghi,dhi,dni,wind_speed,air_temperature,solar_zenith_angle\n",
      "http://developer.nrel.gov/api/solar/nsrdb_psm3_download.csv?wkt=POINT(-117.3703%2034.1064)&names=2019&leap_day=false&interval=60&utc=false&full_name=Diamond+Williams&email=diamond.williams@engie.com&affiliation=ENGIE&mailing_list=true&reason=research&api_key=mtlpqLlBesMh2I0vsRvVfHAxRXhJcYihT8X7gVrL&attributes=ghi,dhi,dni,wind_speed,air_temperature,solar_zenith_angle\n",
      "http://developer.nrel.gov/api/solar/nsrdb_psm3_download.csv?wkt=POINT(-94.52%2045.45)&names=2019&leap_day=false&interval=60&utc=false&full_name=Diamond+Williams&email=diamond.williams@engie.com&affiliation=ENGIE&mailing_list=true&reason=research&api_key=mtlpqLlBesMh2I0vsRvVfHAxRXhJcYihT8X7gVrL&attributes=ghi,dhi,dni,wind_speed,air_temperature,solar_zenith_angle\n",
      "http://developer.nrel.gov/api/solar/nsrdb_psm3_download.csv?wkt=POINT(-94.52%2045.45)&names=2019&leap_day=false&interval=60&utc=false&full_name=Diamond+Williams&email=diamond.williams@engie.com&affiliation=ENGIE&mailing_list=true&reason=research&api_key=mtlpqLlBesMh2I0vsRvVfHAxRXhJcYihT8X7gVrL&attributes=ghi,dhi,dni,wind_speed,air_temperature,solar_zenith_angle\n",
      "http://developer.nrel.gov/api/solar/nsrdb_psm3_download.csv?wkt=POINT(-94.52%2045.45)&names=2019&leap_day=false&interval=60&utc=false&full_name=Diamond+Williams&email=diamond.williams@engie.com&affiliation=ENGIE&mailing_list=true&reason=research&api_key=mtlpqLlBesMh2I0vsRvVfHAxRXhJcYihT8X7gVrL&attributes=ghi,dhi,dni,wind_speed,air_temperature,solar_zenith_angle\n",
      "http://developer.nrel.gov/api/solar/nsrdb_psm3_download.csv?wkt=POINT(-94.52%2045.45)&names=2019&leap_day=false&interval=60&utc=false&full_name=Diamond+Williams&email=diamond.williams@engie.com&affiliation=ENGIE&mailing_list=true&reason=research&api_key=mtlpqLlBesMh2I0vsRvVfHAxRXhJcYihT8X7gVrL&attributes=ghi,dhi,dni,wind_speed,air_temperature,solar_zenith_angle\n",
      "http://developer.nrel.gov/api/solar/nsrdb_psm3_download.csv?wkt=POINT(-94.52%2045.45)&names=2019&leap_day=false&interval=60&utc=false&full_name=Diamond+Williams&email=diamond.williams@engie.com&affiliation=ENGIE&mailing_list=true&reason=research&api_key=mtlpqLlBesMh2I0vsRvVfHAxRXhJcYihT8X7gVrL&attributes=ghi,dhi,dni,wind_speed,air_temperature,solar_zenith_angle\n",
      "http://developer.nrel.gov/api/solar/nsrdb_psm3_download.csv?wkt=POINT(-117.6709%2035.6225)&names=2019&leap_day=false&interval=60&utc=false&full_name=Diamond+Williams&email=diamond.williams@engie.com&affiliation=ENGIE&mailing_list=true&reason=research&api_key=mtlpqLlBesMh2I0vsRvVfHAxRXhJcYihT8X7gVrL&attributes=ghi,dhi,dni,wind_speed,air_temperature,solar_zenith_angle\n",
      "http://developer.nrel.gov/api/solar/nsrdb_psm3_download.csv?wkt=POINT(-117.3755%2033.9806)&names=2019&leap_day=false&interval=60&utc=false&full_name=Diamond+Williams&email=diamond.williams@engie.com&affiliation=ENGIE&mailing_list=true&reason=research&api_key=mtlpqLlBesMh2I0vsRvVfHAxRXhJcYihT8X7gVrL&attributes=ghi,dhi,dni,wind_speed,air_temperature,solar_zenith_angle\n"
     ]
    },
    {
     "name": "stdout",
     "output_type": "stream",
     "text": [
      "http://developer.nrel.gov/api/solar/nsrdb_psm3_download.csv?wkt=POINT(-77.6088%2043.1566)&names=2019&leap_day=false&interval=60&utc=false&full_name=Diamond+Williams&email=diamond.williams@engie.com&affiliation=ENGIE&mailing_list=true&reason=research&api_key=mtlpqLlBesMh2I0vsRvVfHAxRXhJcYihT8X7gVrL&attributes=ghi,dhi,dni,wind_speed,air_temperature,solar_zenith_angle\n",
      "http://developer.nrel.gov/api/solar/nsrdb_psm3_download.csv?wkt=POINT(-117.2898%2034.1083)&names=2019&leap_day=false&interval=60&utc=false&full_name=Diamond+Williams&email=diamond.williams@engie.com&affiliation=ENGIE&mailing_list=true&reason=research&api_key=mtlpqLlBesMh2I0vsRvVfHAxRXhJcYihT8X7gVrL&attributes=ghi,dhi,dni,wind_speed,air_temperature,solar_zenith_angle\n",
      "http://developer.nrel.gov/api/solar/nsrdb_psm3_download.csv?wkt=POINT(-117.2898%2034.1083)&names=2019&leap_day=false&interval=60&utc=false&full_name=Diamond+Williams&email=diamond.williams@engie.com&affiliation=ENGIE&mailing_list=true&reason=research&api_key=mtlpqLlBesMh2I0vsRvVfHAxRXhJcYihT8X7gVrL&attributes=ghi,dhi,dni,wind_speed,air_temperature,solar_zenith_angle\n",
      "http://developer.nrel.gov/api/solar/nsrdb_psm3_download.csv?wkt=POINT(-122.42%2037.77)&names=2019&leap_day=false&interval=60&utc=false&full_name=Diamond+Williams&email=diamond.williams@engie.com&affiliation=ENGIE&mailing_list=true&reason=research&api_key=mtlpqLlBesMh2I0vsRvVfHAxRXhJcYihT8X7gVrL&attributes=ghi,dhi,dni,wind_speed,air_temperature,solar_zenith_angle\n",
      "http://developer.nrel.gov/api/solar/nsrdb_psm3_download.csv?wkt=POINT(-121.8863%2037.3382)&names=2019&leap_day=false&interval=60&utc=false&full_name=Diamond+Williams&email=diamond.williams@engie.com&affiliation=ENGIE&mailing_list=true&reason=research&api_key=mtlpqLlBesMh2I0vsRvVfHAxRXhJcYihT8X7gVrL&attributes=ghi,dhi,dni,wind_speed,air_temperature,solar_zenith_angle\n",
      "http://developer.nrel.gov/api/solar/nsrdb_psm3_download.csv?wkt=POINT(-122.3455%2037.9621)&names=2019&leap_day=false&interval=60&utc=false&full_name=Diamond+Williams&email=diamond.williams@engie.com&affiliation=ENGIE&mailing_list=true&reason=research&api_key=mtlpqLlBesMh2I0vsRvVfHAxRXhJcYihT8X7gVrL&attributes=ghi,dhi,dni,wind_speed,air_temperature,solar_zenith_angle\n",
      "http://developer.nrel.gov/api/solar/nsrdb_psm3_download.csv?wkt=POINT(-91.47%2045.84)&names=2019&leap_day=false&interval=60&utc=false&full_name=Diamond+Williams&email=diamond.williams@engie.com&affiliation=ENGIE&mailing_list=true&reason=research&api_key=mtlpqLlBesMh2I0vsRvVfHAxRXhJcYihT8X7gVrL&attributes=ghi,dhi,dni,wind_speed,air_temperature,solar_zenith_angle\n",
      "http://developer.nrel.gov/api/solar/nsrdb_psm3_download.csv?wkt=POINT(-91.47%2045.84)&names=2019&leap_day=false&interval=60&utc=false&full_name=Diamond+Williams&email=diamond.williams@engie.com&affiliation=ENGIE&mailing_list=true&reason=research&api_key=mtlpqLlBesMh2I0vsRvVfHAxRXhJcYihT8X7gVrL&attributes=ghi,dhi,dni,wind_speed,air_temperature,solar_zenith_angle\n"
     ]
    },
    {
     "ename": "KeyboardInterrupt",
     "evalue": "",
     "output_type": "error",
     "traceback": [
      "\u001b[1;31m---------------------------------------------------------------------------\u001b[0m",
      "\u001b[1;31mKeyboardInterrupt\u001b[0m                         Traceback (most recent call last)",
      "\u001b[1;32m<ipython-input-14-7ce9bf2595af>\u001b[0m in \u001b[0;36m<module>\u001b[1;34m\u001b[0m\n\u001b[0;32m     14\u001b[0m \u001b[1;33m\u001b[0m\u001b[0m\n\u001b[0;32m     15\u001b[0m \u001b[1;33m\u001b[0m\u001b[0m\n\u001b[1;32m---> 16\u001b[1;33m     \u001b[0mprint\u001b[0m\u001b[1;33m(\u001b[0m\u001b[0murl\u001b[0m\u001b[1;33m)\u001b[0m\u001b[1;33m\u001b[0m\u001b[1;33m\u001b[0m\u001b[0m\n\u001b[0m",
      "\u001b[1;31mKeyboardInterrupt\u001b[0m: "
     ]
    }
   ],
   "source": [
    "for index, row in new.iterrows():\n",
    "    lat = row['Latitude']\n",
    "    lon = row['Longitude']\n",
    "    mark = row[['Coor']]\n",
    "    name = row['Project: Project Name']\n",
    "    site = row[['Site ID']]\n",
    "    newmrk = mark[0]\n",
    "    \n",
    "    url = 'http://developer.nrel.gov/api/solar/nsrdb_psm3_download.csv?wkt=POINT({newmrk})&names={year}&leap_day={leap}&interval={interval}&utc={utc}&full_name={name}&email={email}&affiliation={affiliation}&mailing_list={mailing_list}&reason={reason}&api_key={api}&attributes={attr}'.format(year=year, lat=lat, lon=lon, newmrk=newmrk, leap=leap_year, interval=interval, utc=utc, name=your_name, email=your_email, mailing_list=mailing_list, affiliation=your_affiliation, reason=reason_for_use, api=api_key, attr=attributes)\n",
    "    \n",
    "    response = requests.get(url)\n",
    "    with open(os.path.join(os.getcwd(), str(uuid.uuid4())) + newmrk + name, 'wb') as f:\n",
    "        f.write(response.content)\n",
    "        \n",
    "\n",
    "    print(url)"
   ]
  },
  {
   "cell_type": "code",
   "execution_count": null,
   "metadata": {},
   "outputs": [],
   "source": []
  }
 ],
 "metadata": {
  "kernelspec": {
   "display_name": "Python 3",
   "language": "python",
   "name": "python3"
  },
  "language_info": {
   "codemirror_mode": {
    "name": "ipython",
    "version": 3
   },
   "file_extension": ".py",
   "mimetype": "text/x-python",
   "name": "python",
   "nbconvert_exporter": "python",
   "pygments_lexer": "ipython3",
   "version": "3.8.2"
  }
 },
 "nbformat": 4,
 "nbformat_minor": 2
}
