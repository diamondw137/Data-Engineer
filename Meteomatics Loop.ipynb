{
 "cells": [
  {
   "cell_type": "code",
   "execution_count": 1,
   "metadata": {},
   "outputs": [],
   "source": [
    "import pandas as pd\n",
    "import numpy as np\n",
    "import sys, os\n",
    "import time as time\n",
    "from datetime import datetime,timedelta\n",
    "import requests\n",
    "from IPython.display import display\n",
    "import json\n",
    "from pandas.io.json import json_normalize\n",
    "\n",
    "#import API key\n",
    "from api_keys import KeyId"
   ]
  },
  {
   "cell_type": "code",
   "execution_count": 2,
   "metadata": {},
   "outputs": [],
   "source": [
    "start = datetime.utcnow() - timedelta(hours=2)"
   ]
  },
  {
   "cell_type": "code",
   "execution_count": 3,
   "metadata": {},
   "outputs": [],
   "source": [
    "start = time.mktime(start.timetuple())"
   ]
  },
  {
   "cell_type": "code",
   "execution_count": 21,
   "metadata": {},
   "outputs": [
    {
     "data": {
      "text/plain": [
       "'1582065221'"
      ]
     },
     "execution_count": 21,
     "metadata": {},
     "output_type": "execute_result"
    }
   ],
   "source": [
    "start = str(int(start))\n",
    "start"
   ]
  },
  {
   "cell_type": "code",
   "execution_count": 5,
   "metadata": {},
   "outputs": [],
   "source": [
    "end = datetime.utcnow() - timedelta(hours=1)"
   ]
  },
  {
   "cell_type": "code",
   "execution_count": 6,
   "metadata": {},
   "outputs": [],
   "source": [
    "end = time.mktime(end.timetuple())"
   ]
  },
  {
   "cell_type": "code",
   "execution_count": 7,
   "metadata": {},
   "outputs": [
    {
     "data": {
      "text/plain": [
       "'1582068823'"
      ]
     },
     "execution_count": 7,
     "metadata": {},
     "output_type": "execute_result"
    }
   ],
   "source": [
    "end = str(int(end))\n",
    "end"
   ]
  },
  {
   "cell_type": "code",
   "execution_count": 8,
   "metadata": {},
   "outputs": [
    {
     "data": {
      "text/html": [
       "<div>\n",
       "<style scoped>\n",
       "    .dataframe tbody tr th:only-of-type {\n",
       "        vertical-align: middle;\n",
       "    }\n",
       "\n",
       "    .dataframe tbody tr th {\n",
       "        vertical-align: top;\n",
       "    }\n",
       "\n",
       "    .dataframe thead th {\n",
       "        text-align: right;\n",
       "    }\n",
       "</style>\n",
       "<table border=\"1\" class=\"dataframe\">\n",
       "  <thead>\n",
       "    <tr style=\"text-align: right;\">\n",
       "      <th></th>\n",
       "      <th>Project: Project Name</th>\n",
       "      <th>Latitude</th>\n",
       "      <th>Longitude</th>\n",
       "      <th>Site ID</th>\n",
       "      <th>Coor</th>\n",
       "      <th>UID</th>\n",
       "    </tr>\n",
       "  </thead>\n",
       "  <tbody>\n",
       "    <tr>\n",
       "      <th>0</th>\n",
       "      <td>Alburgh_VT_VEC-GM</td>\n",
       "      <td>44.98</td>\n",
       "      <td>-73.30</td>\n",
       "      <td>565.0</td>\n",
       "      <td>-73.3%2044.98</td>\n",
       "      <td>a4d1eb92-7fff-47ab-8dc4-76e2068b56be</td>\n",
       "    </tr>\n",
       "    <tr>\n",
       "      <th>1</th>\n",
       "      <td>American Canyon 11365S_CA_WAG-RT</td>\n",
       "      <td>38.17</td>\n",
       "      <td>-122.26</td>\n",
       "      <td>448.0</td>\n",
       "      <td>-122.26%2038.17</td>\n",
       "      <td>aa49f449-8dcb-4ef4-93c5-87a25c16efeb</td>\n",
       "    </tr>\n",
       "    <tr>\n",
       "      <th>2</th>\n",
       "      <td>American Fork 343_UT_CNMK-RT</td>\n",
       "      <td>40.38</td>\n",
       "      <td>-111.80</td>\n",
       "      <td>312.0</td>\n",
       "      <td>-111.8%2040.38</td>\n",
       "      <td>aa49f449-8dcb-4ef4-93c5-87a25c16efeb</td>\n",
       "    </tr>\n",
       "    <tr>\n",
       "      <th>3</th>\n",
       "      <td>Anaheim_CA_MRT-RT</td>\n",
       "      <td>33.84</td>\n",
       "      <td>-117.91</td>\n",
       "      <td>570.0</td>\n",
       "      <td>-117.91%2033.84</td>\n",
       "      <td>a30ee413-f5a3-4c78-a79e-c3fe32d75e78</td>\n",
       "    </tr>\n",
       "    <tr>\n",
       "      <th>4</th>\n",
       "      <td>Anoka_MN_CONX-GM</td>\n",
       "      <td>45.20</td>\n",
       "      <td>-93.39</td>\n",
       "      <td>760.0</td>\n",
       "      <td>-93.39%2045.2</td>\n",
       "      <td>c53235d4-b5de-4587-a6a4-5656999ebc3a</td>\n",
       "    </tr>\n",
       "  </tbody>\n",
       "</table>\n",
       "</div>"
      ],
      "text/plain": [
       "              Project: Project Name  Latitude  Longitude  Site ID  \\\n",
       "0                 Alburgh_VT_VEC-GM     44.98     -73.30    565.0   \n",
       "1  American Canyon 11365S_CA_WAG-RT     38.17    -122.26    448.0   \n",
       "2      American Fork 343_UT_CNMK-RT     40.38    -111.80    312.0   \n",
       "3                 Anaheim_CA_MRT-RT     33.84    -117.91    570.0   \n",
       "4                  Anoka_MN_CONX-GM     45.20     -93.39    760.0   \n",
       "\n",
       "              Coor                                   UID  \n",
       "0    -73.3%2044.98  a4d1eb92-7fff-47ab-8dc4-76e2068b56be  \n",
       "1  -122.26%2038.17  aa49f449-8dcb-4ef4-93c5-87a25c16efeb  \n",
       "2   -111.8%2040.38  aa49f449-8dcb-4ef4-93c5-87a25c16efeb  \n",
       "3  -117.91%2033.84  a30ee413-f5a3-4c78-a79e-c3fe32d75e78  \n",
       "4    -93.39%2045.2  c53235d4-b5de-4587-a6a4-5656999ebc3a  "
      ]
     },
     "execution_count": 8,
     "metadata": {},
     "output_type": "execute_result"
    }
   ],
   "source": [
    "file =pd.read_csv('Solar_Sites.csv')\n",
    "file.head()"
   ]
  },
  {
   "cell_type": "code",
   "execution_count": 9,
   "metadata": {},
   "outputs": [
    {
     "data": {
      "text/html": [
       "<div>\n",
       "<style scoped>\n",
       "    .dataframe tbody tr th:only-of-type {\n",
       "        vertical-align: middle;\n",
       "    }\n",
       "\n",
       "    .dataframe tbody tr th {\n",
       "        vertical-align: top;\n",
       "    }\n",
       "\n",
       "    .dataframe thead th {\n",
       "        text-align: right;\n",
       "    }\n",
       "</style>\n",
       "<table border=\"1\" class=\"dataframe\">\n",
       "  <thead>\n",
       "    <tr style=\"text-align: right;\">\n",
       "      <th></th>\n",
       "      <th>UID</th>\n",
       "      <th>Project: Project Name</th>\n",
       "      <th>Site ID</th>\n",
       "    </tr>\n",
       "  </thead>\n",
       "  <tbody>\n",
       "    <tr>\n",
       "      <th>0</th>\n",
       "      <td>a4d1eb92-7fff-47ab-8dc4-76e2068b56be</td>\n",
       "      <td>Alburgh_VT_VEC-GM</td>\n",
       "      <td>565.0</td>\n",
       "    </tr>\n",
       "    <tr>\n",
       "      <th>1</th>\n",
       "      <td>aa49f449-8dcb-4ef4-93c5-87a25c16efeb</td>\n",
       "      <td>American Canyon 11365S_CA_WAG-RT</td>\n",
       "      <td>448.0</td>\n",
       "    </tr>\n",
       "    <tr>\n",
       "      <th>2</th>\n",
       "      <td>aa49f449-8dcb-4ef4-93c5-87a25c16efeb</td>\n",
       "      <td>American Fork 343_UT_CNMK-RT</td>\n",
       "      <td>312.0</td>\n",
       "    </tr>\n",
       "    <tr>\n",
       "      <th>3</th>\n",
       "      <td>a30ee413-f5a3-4c78-a79e-c3fe32d75e78</td>\n",
       "      <td>Anaheim_CA_MRT-RT</td>\n",
       "      <td>570.0</td>\n",
       "    </tr>\n",
       "    <tr>\n",
       "      <th>4</th>\n",
       "      <td>c53235d4-b5de-4587-a6a4-5656999ebc3a</td>\n",
       "      <td>Anoka_MN_CONX-GM</td>\n",
       "      <td>760.0</td>\n",
       "    </tr>\n",
       "  </tbody>\n",
       "</table>\n",
       "</div>"
      ],
      "text/plain": [
       "                                    UID             Project: Project Name  \\\n",
       "0  a4d1eb92-7fff-47ab-8dc4-76e2068b56be                 Alburgh_VT_VEC-GM   \n",
       "1  aa49f449-8dcb-4ef4-93c5-87a25c16efeb  American Canyon 11365S_CA_WAG-RT   \n",
       "2  aa49f449-8dcb-4ef4-93c5-87a25c16efeb      American Fork 343_UT_CNMK-RT   \n",
       "3  a30ee413-f5a3-4c78-a79e-c3fe32d75e78                 Anaheim_CA_MRT-RT   \n",
       "4  c53235d4-b5de-4587-a6a4-5656999ebc3a                  Anoka_MN_CONX-GM   \n",
       "\n",
       "   Site ID  \n",
       "0    565.0  \n",
       "1    448.0  \n",
       "2    312.0  \n",
       "3    570.0  \n",
       "4    760.0  "
      ]
     },
     "execution_count": 9,
     "metadata": {},
     "output_type": "execute_result"
    }
   ],
   "source": [
    "new = file[['UID',\"Project: Project Name\", \"Site ID\"]]\n",
    "new.head()"
   ]
  },
  {
   "cell_type": "code",
   "execution_count": 10,
   "metadata": {},
   "outputs": [
    {
     "name": "stderr",
     "output_type": "stream",
     "text": [
      "C:\\Users\\DS5975\\AppData\\Local\\Continuum\\anaconda3\\lib\\site-packages\\ipykernel_launcher.py:1: SettingWithCopyWarning: \n",
      "A value is trying to be set on a copy of a slice from a DataFrame.\n",
      "Try using .loc[row_indexer,col_indexer] = value instead\n",
      "\n",
      "See the caveats in the documentation: http://pandas.pydata.org/pandas-docs/stable/indexing.html#indexing-view-versus-copy\n",
      "  \"\"\"Entry point for launching an IPython kernel.\n"
     ]
    },
    {
     "data": {
      "text/plain": [
       "0    a4d1eb92-7fff-47ab-8dc4-76e2068b56be\n",
       "1    aa49f449-8dcb-4ef4-93c5-87a25c16efeb\n",
       "2    aa49f449-8dcb-4ef4-93c5-87a25c16efeb\n",
       "3    a30ee413-f5a3-4c78-a79e-c3fe32d75e78\n",
       "4    c53235d4-b5de-4587-a6a4-5656999ebc3a\n",
       "Name: UID, dtype: object"
      ]
     },
     "execution_count": 10,
     "metadata": {},
     "output_type": "execute_result"
    }
   ],
   "source": [
    "new['UID']= new['UID'].astype(str)\n",
    "new['UID'].head()"
   ]
  },
  {
   "cell_type": "code",
   "execution_count": 11,
   "metadata": {},
   "outputs": [
    {
     "name": "stderr",
     "output_type": "stream",
     "text": [
      "C:\\Users\\DS5975\\AppData\\Local\\Continuum\\anaconda3\\lib\\site-packages\\ipykernel_launcher.py:1: SettingWithCopyWarning: \n",
      "A value is trying to be set on a copy of a slice from a DataFrame.\n",
      "Try using .loc[row_indexer,col_indexer] = value instead\n",
      "\n",
      "See the caveats in the documentation: http://pandas.pydata.org/pandas-docs/stable/indexing.html#indexing-view-versus-copy\n",
      "  \"\"\"Entry point for launching an IPython kernel.\n"
     ]
    }
   ],
   "source": [
    "new['UID']= new['UID'].dropna()"
   ]
  },
  {
   "cell_type": "markdown",
   "metadata": {},
   "source": [
    "url = 'https://api.engie.com:8065/wss/v2/weather/forecast?start=1580284800&end=1580288400&targetId=a4d1eb92-7fff-47ab-8dc4-76e2068b56be&fullDays=true&timeStep=3600&params=%20diffuse_rad%3AW,%20direct_rad%3AW,global_rad%3AW,absolute_humidity_2m%3Agm3"
   ]
  },
  {
   "cell_type": "markdown",
   "metadata": {},
   "source": [
    "Headless Downloads"
   ]
  },
  {
   "cell_type": "code",
   "execution_count": 12,
   "metadata": {},
   "outputs": [],
   "source": [
    "import csv\n",
    "from urllib import request\n",
    "import uuid"
   ]
  },
  {
   "cell_type": "code",
   "execution_count": 24,
   "metadata": {},
   "outputs": [
    {
     "name": "stdout",
     "output_type": "stream",
     "text": [
      "b'{\"code\":\"DB\",\"details\":\"Can t find objet of class Location with property uid equals to nan\"}'\n"
     ]
    }
   ],
   "source": [
    "for index, row in new.iterrows():\n",
    "    targetId = row['UID']\n",
    "    \n",
    "    url = 'https://api.engie.com:8065/wss/v2/weather/forecast?start={start}&end={end}&targetId={targetId}&fullDays=true&timeStep=3600&params=%20absolute_humidity_2m%3Agm3, clear_sky_rad%3AW,dew_or_rime%3Aidx'.format(start=start, end=end, targetId=targetId) \n",
    "    \n",
    "    payload = {}\n",
    "    headers = {\n",
    "  'KeyId': KeyId\n",
    "}\n",
    "\n",
    "response = requests.request(\"GET\", url, headers=headers, data = payload)\n",
    "\n",
    "data = response.text.encode('utf8')\n",
    "\n",
    "print(data)\n"
   ]
  },
  {
   "cell_type": "code",
   "execution_count": 27,
   "metadata": {
    "scrolled": true
   },
   "outputs": [
    {
     "name": "stdout",
     "output_type": "stream",
     "text": [
      "b'{\"code\":\"DB\",\"details\":\"Can t find objet of class Location with property uid equals to nan\"}'\n"
     ]
    }
   ],
   "source": [
    "url = 'https://api.engie.com:8065/wss/v2/weather/forecast?start={start}&end={end}&targetId={targetId}&fullDays=true&timeStep=3600&params=%20absolute_humidity_2m%3Agm3'.format(start=start, end=end, targetId=targetId) \n",
    "\n",
    "payload = {}\n",
    "headers = {\n",
    "  'KeyId': KeyId\n",
    "}\n",
    "\n",
    "response = requests.request(\"GET\", url, headers=headers, data = payload)\n",
    "\n",
    "data = response.text.encode('utf8')\n",
    "\n",
    "print(data)\n"
   ]
  },
  {
   "cell_type": "code",
   "execution_count": 26,
   "metadata": {},
   "outputs": [
    {
     "data": {
      "text/plain": [
       "'https://api.engie.com:8065/wss/v2/weather/forecast?start=1582065221&end=1582068823&targetId=nan&fullDays=true&timeStep=3600&params=%20absolute_humidity_2m%3Agm3'"
      ]
     },
     "execution_count": 26,
     "metadata": {},
     "output_type": "execute_result"
    }
   ],
   "source": [
    "url = 'https://api.engie.com:8065/wss/v2/weather/forecast?start={start}&end={end}&targetId={targetId}&fullDays=true&timeStep=3600&params=%20absolute_humidity_2m%3Agm3'.format(start=start, end=end, targetId=targetId) \n",
    "\n",
    "payload = {}\n",
    "headers = {\n",
    "  'KeyId': KeyId\n",
    "}\n",
    "\n",
    "response = requests.request(\"GET\", url, headers=headers, data = payload)\n",
    "\n",
    "data = response.text.encode('utf8')\n",
    "\n",
    "print(data)"
   ]
  },
  {
   "cell_type": "code",
   "execution_count": 42,
   "metadata": {},
   "outputs": [],
   "source": [
    "x= data.decode('utf8')"
   ]
  },
  {
   "cell_type": "code",
   "execution_count": 40,
   "metadata": {},
   "outputs": [
    {
     "data": {
      "text/plain": [
       "str"
      ]
     },
     "execution_count": 40,
     "metadata": {},
     "output_type": "execute_result"
    }
   ],
   "source": [
    "type(x)"
   ]
  },
  {
   "cell_type": "code",
   "execution_count": 41,
   "metadata": {},
   "outputs": [
    {
     "ename": "AttributeError",
     "evalue": "'str' object has no attribute 'loads'",
     "output_type": "error",
     "traceback": [
      "\u001b[1;31m---------------------------------------------------------------------------\u001b[0m",
      "\u001b[1;31mAttributeError\u001b[0m                            Traceback (most recent call last)",
      "\u001b[1;32m<ipython-input-41-f896d9a0a2ca>\u001b[0m in \u001b[0;36m<module>\u001b[1;34m\u001b[0m\n\u001b[1;32m----> 1\u001b[1;33m \u001b[0mjson\u001b[0m\u001b[1;33m.\u001b[0m\u001b[0mloads\u001b[0m\u001b[1;33m(\u001b[0m\u001b[0mx\u001b[0m\u001b[1;33m)\u001b[0m\u001b[1;33m\u001b[0m\u001b[1;33m\u001b[0m\u001b[0m\n\u001b[0m",
      "\u001b[1;31mAttributeError\u001b[0m: 'str' object has no attribute 'loads'"
     ]
    }
   ],
   "source": [
    "json.loads(x)"
   ]
  },
  {
   "cell_type": "code",
   "execution_count": null,
   "metadata": {},
   "outputs": [],
   "source": []
  }
 ],
 "metadata": {
  "kernelspec": {
   "display_name": "Python 3",
   "language": "python",
   "name": "python3"
  },
  "language_info": {
   "codemirror_mode": {
    "name": "ipython",
    "version": 3
   },
   "file_extension": ".py",
   "mimetype": "text/x-python",
   "name": "python",
   "nbconvert_exporter": "python",
   "pygments_lexer": "ipython3",
   "version": "3.7.3"
  }
 },
 "nbformat": 4,
 "nbformat_minor": 2
}
